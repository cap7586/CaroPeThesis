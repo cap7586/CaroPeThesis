{
 "cells": [
  {
   "cell_type": "markdown",
   "metadata": {},
   "source": [
    "# Thesis Notebook Caro Pe"
   ]
  },
  {
   "cell_type": "code",
   "execution_count": 3,
   "metadata": {},
   "outputs": [
    {
     "ename": "ModuleNotFoundError",
     "evalue": "No module named 'pandas'",
     "output_type": "error",
     "traceback": [
      "\u001b[0;31m---------------------------------------------------------------------------\u001b[0m",
      "\u001b[0;31mModuleNotFoundError\u001b[0m                       Traceback (most recent call last)",
      "Cell \u001b[0;32mIn[3], line 1\u001b[0m\n\u001b[0;32m----> 1\u001b[0m \u001b[38;5;28;01mimport\u001b[39;00m \u001b[38;5;21;01mpandas\u001b[39;00m \u001b[38;5;28;01mas\u001b[39;00m \u001b[38;5;21;01mpd\u001b[39;00m\n",
      "\u001b[0;31mModuleNotFoundError\u001b[0m: No module named 'pandas'"
     ]
    }
   ],
   "source": [
    "import pandas as pd"
   ]
  },
  {
   "cell_type": "code",
   "execution_count": 10,
   "metadata": {},
   "outputs": [],
   "source": [
    "wuerzburg_data_set = \"./fahrrad-zaehlung-daten.csv\""
   ]
  },
  {
   "cell_type": "code",
   "execution_count": 11,
   "metadata": {},
   "outputs": [],
   "source": [
    "df = pd.read_csv(wuerzburg_data_set)"
   ]
  },
  {
   "cell_type": "code",
   "execution_count": 12,
   "metadata": {},
   "outputs": [
    {
     "name": "stdout",
     "output_type": "stream",
     "text": [
      "                                                                       Id;Date;Counts;Status;Name;Coordinates;User Type;TimeZone;Interval;Sens;Installation Date;Counter;Photos;photourl;photo\n",
      "300020349;2021-03-03T23:00:00+01:00;;;Greinberg...  Versbach;49.800637   9.961311;bicycle;\"(UTC+01:00) Europe/Berlin;D...                                                                     \n",
      "300020349;2021-03-04T00:00:00+01:00;;;Greinberg...  Versbach;49.800637   9.961311;bicycle;\"(UTC+01:00) Europe/Berlin;D...                                                                     \n",
      "300020349;2021-03-04T01:00:00+01:00;;;Greinberg...  Versbach;49.800637   9.961311;bicycle;\"(UTC+01:00) Europe/Berlin;D...                                                                     \n",
      "300020349;2021-03-04T02:00:00+01:00;;;Greinberg...  Versbach;49.800637   9.961311;bicycle;\"(UTC+01:00) Europe/Berlin;D...                                                                     \n",
      "300020349;2021-03-04T03:00:00+01:00;;;Greinberg...  Versbach;49.800637   9.961311;bicycle;\"(UTC+01:00) Europe/Berlin;D...                                                                     \n"
     ]
    }
   ],
   "source": [
    "print(df.head())"
   ]
  },
  {
   "cell_type": "code",
   "execution_count": null,
   "metadata": {},
   "outputs": [],
   "source": []
  }
 ],
 "metadata": {
  "kernelspec": {
   "display_name": "Python 3 (ipykernel)",
   "language": "python",
   "name": "python3"
  },
  "language_info": {
   "codemirror_mode": {
    "name": "ipython",
    "version": 3
   },
   "file_extension": ".py",
   "mimetype": "text/x-python",
   "name": "python",
   "nbconvert_exporter": "python",
   "pygments_lexer": "ipython3",
   "version": "3.10.10"
  }
 },
 "nbformat": 4,
 "nbformat_minor": 2
}
