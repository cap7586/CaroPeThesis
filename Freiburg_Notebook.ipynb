{
 "cells": [
  {
   "cell_type": "markdown",
   "metadata": {},
   "source": [
    "# Freiburg Notebook"
   ]
  },
  {
   "cell_type": "markdown",
   "metadata": {},
   "source": [
    "## Imports and General Definitions"
   ]
  },
  {
   "cell_type": "code",
   "execution_count": 50,
   "metadata": {},
   "outputs": [],
   "source": [
    "# Freiburg dataset import\n",
    "import pandas as pd\n",
    "import matplotlib.pyplot as plt\n",
    "import matplotlib.cm as cm\n",
    "from matplotlib.ticker import ScalarFormatter\n",
    "import numpy as np\n",
    "import seaborn as sns\n",
    "\n",
    "pd.options.display.float_format = '{:.0f}'.format\n",
    "base_colors = ['#e97c6b', '#f7a18a', '#00a78d', '#59c3ad', '#1c352d', '#49916b', '#c2a1b5', '#d6b3c5']"
   ]
  },
  {
   "cell_type": "code",
   "execution_count": 39,
   "metadata": {},
   "outputs": [
    {
     "name": "stdout",
     "output_type": "stream",
     "text": [
      "<class 'pandas.core.frame.DataFrame'>\n",
      "RangeIndex: 245472 entries, 0 to 245471\n",
      "Data columns (total 5 columns):\n",
      " #   Column              Non-Null Count   Dtype \n",
      "---  ------              --------------   ----- \n",
      " 0   Datum               245472 non-null  object\n",
      " 1   Stunde              245472 non-null  int64 \n",
      " 2   Datetime            245472 non-null  object\n",
      " 3   Fahrrad-Zählstelle  245472 non-null  int64 \n",
      " 4   Anzahl Fahrräder    245472 non-null  int64 \n",
      "dtypes: int64(3), object(2)\n",
      "memory usage: 9.4+ MB\n"
     ]
    }
   ],
   "source": [
    "#Freiburg Bikes Sets\n",
    "freiburg_dataset = \"./Freiburg_bikes.csv\"\n",
    "df_freiburg = pd.read_csv(freiburg_dataset)\n",
    "\n",
    "#df_freiburg.shape #(245472, 5)\n",
    "df_freiburg.info()\n"
   ]
  },
  {
   "cell_type": "code",
   "execution_count": 40,
   "metadata": {},
   "outputs": [],
   "source": [
    "# I want to drop the column Datetime because it is redundant\n",
    "df_freiburg = df_freiburg.drop(columns='Datetime')\n",
    "\n",
    "# I also want to sort my DataFrame, depending on the \"Datum\" column and also by the \"Stunde\" column\n",
    "df_freiburg = df_freiburg.sort_values(by=['Datum','Stunde'], ascending=[True, True])\n",
    "\n",
    "#df_freiburg.info()\n",
    "#print(df_freiburg)"
   ]
  },
  {
   "cell_type": "code",
   "execution_count": 41,
   "metadata": {},
   "outputs": [
    {
     "name": "stdout",
     "output_type": "stream",
     "text": [
      "             Datum  Stunde  Fahrrad-Zählstelle  Anzahl Fahrräder\n",
      "0       2015-01-01       0                   1                16\n",
      "1       2015-01-01       0                   2                 8\n",
      "2       2015-01-01       0                   3                 6\n",
      "3       2015-01-01       0                   4                18\n",
      "4       2015-01-01       1                   1                41\n",
      "...            ...     ...                 ...               ...\n",
      "245467  2021-12-31      22                   4                76\n",
      "245468  2021-12-31      23                   1                47\n",
      "245469  2021-12-31      23                   2                17\n",
      "245470  2021-12-31      23                   3                37\n",
      "245471  2021-12-31      23                   4                76\n",
      "\n",
      "[245472 rows x 4 columns]\n",
      "<class 'pandas.core.frame.DataFrame'>\n",
      "RangeIndex: 245472 entries, 0 to 245471\n",
      "Data columns (total 4 columns):\n",
      " #   Column              Non-Null Count   Dtype \n",
      "---  ------              --------------   ----- \n",
      " 0   Datum               245472 non-null  object\n",
      " 1   Stunde              245472 non-null  int64 \n",
      " 2   Fahrrad-Zählstelle  245472 non-null  int64 \n",
      " 3   Anzahl Fahrräder    245472 non-null  int64 \n",
      "dtypes: int64(3), object(1)\n",
      "memory usage: 7.5+ MB\n"
     ]
    }
   ],
   "source": [
    "# Reset the index of the DataFrame to a continuous sequence starting from 0 to the last value using the reset_index() method with the parameter drop=True.\n",
    "df_freiburg.reset_index(drop=True, inplace=True)\n",
    "print(df_freiburg)\n",
    "df_freiburg.info()"
   ]
  },
  {
   "cell_type": "markdown",
   "metadata": {},
   "source": [
    "### Monthly Count per Location"
   ]
  },
  {
   "cell_type": "code",
   "execution_count": 45,
   "metadata": {},
   "outputs": [
    {
     "name": "stdout",
     "output_type": "stream",
     "text": [
      "       Datum  Fahrrad-Zählstelle  Anzahl Fahrräder\n",
      "0    2015-01                   1            159300\n",
      "1    2015-01                   2             33811\n",
      "2    2015-01                   3             66194\n",
      "3    2015-01                   4            180887\n",
      "4    2015-02                   1            144821\n",
      "..       ...                 ...               ...\n",
      "331  2021-11                   4            272722\n",
      "332  2021-12                   1            145360\n",
      "333  2021-12                   2             64249\n",
      "334  2021-12                   3             71021\n",
      "335  2021-12                   4            213647\n",
      "\n",
      "[336 rows x 3 columns]\n"
     ]
    }
   ],
   "source": [
    "# Convert 'Datum' column to datetime\n",
    "df_freiburg['Datum'] = pd.to_datetime(df_freiburg['Datum'])\n",
    "\n",
    "# Create a new DataFrame with year-month ('YYYY-MM') values\n",
    "df_monthly = df_freiburg.copy()\n",
    "df_monthly['Datum'] = df_monthly['Datum'].dt.to_period('M')\n",
    "\n",
    "# Group by 'Datum' and 'Fahrrad-Zählstelle' and sum the 'Anzahl Fahrräder' values\n",
    "df_monthly = df_monthly.groupby(['Datum', 'Fahrrad-Zählstelle']).agg({'Anzahl Fahrräder': 'sum'}).reset_index()\n",
    "\n",
    "# Print the new DataFrame\n",
    "print(df_monthly)\n"
   ]
  },
  {
   "cell_type": "markdown",
   "metadata": {},
   "source": [
    "### Yearly Count per Location"
   ]
  },
  {
   "cell_type": "code",
   "execution_count": 48,
   "metadata": {},
   "outputs": [
    {
     "name": "stdout",
     "output_type": "stream",
     "text": [
      "       Datum  Stunde  Fahrrad-Zählstelle  Anzahl Fahrräder\n",
      "0       2015       0                   1                16\n",
      "1       2015       0                   2                 8\n",
      "2       2015       0                   3                 6\n",
      "3       2015       0                   4                18\n",
      "4       2015       1                   1                41\n",
      "...      ...     ...                 ...               ...\n",
      "245467  2021      22                   4                76\n",
      "245468  2021      23                   1                47\n",
      "245469  2021      23                   2                17\n",
      "245470  2021      23                   3                37\n",
      "245471  2021      23                   4                76\n",
      "\n",
      "[245472 rows x 4 columns]\n",
      "   Datum  Fahrrad-Zählstelle  Anzahl Fahrräder\n",
      "0   2015                   1           2587770\n",
      "1   2015                   2            617553\n",
      "2   2015                   3           1004428\n",
      "3   2015                   4           3249910\n",
      "4   2016                   1           2570415\n",
      "5   2016                   2            644369\n",
      "6   2016                   3            951644\n",
      "7   2016                   4           3317059\n",
      "8   2017                   1           2601300\n",
      "9   2017                   2            714337\n",
      "10  2017                   3            980917\n",
      "11  2017                   4           3395631\n",
      "12  2018                   1           2710305\n",
      "13  2018                   2            815699\n",
      "14  2018                   3           1050292\n",
      "15  2018                   4           3777640\n",
      "16  2019                   1           2507586\n",
      "17  2019                   2            870060\n",
      "18  2019                   3           1061501\n",
      "19  2019                   4           3531065\n",
      "20  2020                   1           2458973\n",
      "21  2020                   2            597195\n",
      "22  2020                   3           1001329\n",
      "23  2020                   4           3079861\n",
      "24  2021                   1           2343945\n",
      "25  2021                   2            932006\n",
      "26  2021                   3            955572\n",
      "27  2021                   4           3056632\n"
     ]
    }
   ],
   "source": [
    "# Convert 'Datum' column to datetime\n",
    "#df_freiburg['Datum'] = pd.to_datetime(df_freiburg['Datum'])\n",
    "\n",
    "# Create a new DataFrame with year-month ('YYYY-MM') values\n",
    "df_yearly = df_freiburg.copy()\n",
    "df_yearly['Datum'] = df_yearly['Datum'].dt.to_period('Y')\n",
    "print(df_yearly)\n",
    "# Group by 'Datum' and 'Fahrrad-Zählstelle' and sum the 'Anzahl Fahrräder' values\n",
    "df_yearly = df_yearly.groupby(['Datum', 'Fahrrad-Zählstelle']).agg({'Anzahl Fahrräder': 'sum'}).reset_index()\n",
    "\n",
    "# Print the new DataFrame\n",
    "print(df_yearly)"
   ]
  },
  {
   "cell_type": "code",
   "execution_count": 54,
   "metadata": {},
   "outputs": [
    {
     "data": {
      "text/plain": [
       "<Figure size 1000x600 with 0 Axes>"
      ]
     },
     "metadata": {},
     "output_type": "display_data"
    },
    {
     "data": {
      "image/png": "[encoded data removed]",
      "text/plain": [
       "<Figure size 640x480 with 1 Axes>"
      ]
     },
     "metadata": {},
     "output_type": "display_data"
    }
   ],
   "source": [
    "# Group by 'Datum' (year) and sum the 'Anzahl Fahrräder' values for each year\n",
    "df_yearly_total = df_yearly.groupby('Datum')['Anzahl Fahrräder'].sum().reset_index()\n",
    "\n",
    "# Pivot the DataFrame to have 'Fahrrad-Zählstelle' as columns and 'Datum' as index\n",
    "df_pivot = df_yearly.pivot_table(index='Datum', columns='Fahrrad-Zählstelle', values='Anzahl Fahrräder', aggfunc='sum')\n",
    "\n",
    "# Plot the stacked bar chart\n",
    "plt.figure(figsize=(10, 6))\n",
    "df_pivot.plot(kind='bar', stacked=True, color=base_colors)\n",
    "plt.title('Total Bike Counts by Year and Fahrrad-Zählstelle')\n",
    "plt.xlabel('Year')\n",
    "plt.ylabel('Total Bike Counts')\n",
    "plt.xticks(rotation=45)\n",
    "plt.legend(title='Fahrrad-Zählstelle', bbox_to_anchor=(1.05, 1), loc='upper left')\n",
    "plt.tight_layout()\n",
    "plt.show()\n"
   ]
  },
  {
   "cell_type": "code",
   "execution_count": null,
   "metadata": {},
   "outputs": [],
   "source": []
  }
 ],
 "metadata": {
  "kernelspec": {
   "display_name": "base",
   "language": "python",
   "name": "python3"
  },
  "language_info": {
   "codemirror_mode": {
    "name": "ipython",
    "version": 3
   },
   "file_extension": ".py",
   "mimetype": "text/x-python",
   "name": "python",
   "nbconvert_exporter": "python",
   "pygments_lexer": "ipython3",
   "version": "3.11.5"
  }
 },
 "nbformat": 4,
 "nbformat_minor": 2
}
