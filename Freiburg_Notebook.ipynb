{
 "cells": [
  {
   "cell_type": "markdown",
   "metadata": {},
   "source": [
    "# Freiburg Notebook"
   ]
  },
  {
   "cell_type": "markdown",
   "metadata": {},
   "source": [
    "## Imports"
   ]
  },
  {
   "cell_type": "code",
   "execution_count": 23,
   "metadata": {},
   "outputs": [],
   "source": [
    "# Freiburg dataset import\n",
    "import pandas as pd\n",
    "import matplotlib.pyplot as plt\n",
    "import matplotlib.cm as cm\n",
    "from matplotlib.ticker import ScalarFormatter\n",
    "import numpy as np\n",
    "import seaborn as sns\n",
    "\n",
    "pd.options.display.float_format = '{:.0f}'.format\n"
   ]
  },
  {
   "cell_type": "code",
   "execution_count": 24,
   "metadata": {},
   "outputs": [
    {
     "name": "stdout",
     "output_type": "stream",
     "text": [
      "<class 'pandas.core.frame.DataFrame'>\n",
      "RangeIndex: 245472 entries, 0 to 245471\n",
      "Data columns (total 5 columns):\n",
      " #   Column              Non-Null Count   Dtype \n",
      "---  ------              --------------   ----- \n",
      " 0   Datum               245472 non-null  object\n",
      " 1   Stunde              245472 non-null  int64 \n",
      " 2   Datetime            245472 non-null  object\n",
      " 3   Fahrrad-Zählstelle  245472 non-null  int64 \n",
      " 4   Anzahl Fahrräder    245472 non-null  int64 \n",
      "dtypes: int64(3), object(2)\n",
      "memory usage: 9.4+ MB\n"
     ]
    }
   ],
   "source": [
    "#Freiburg Bikes Sets\n",
    "freiburg_dataset = \"./Freiburg_bikes.csv\"\n",
    "df_freiburg = pd.read_csv(freiburg_dataset)\n",
    "\n",
    "#df_freiburg.shape #(245472, 5)\n",
    "df_freiburg.info()\n"
   ]
  },
  {
   "cell_type": "code",
   "execution_count": 25,
   "metadata": {},
   "outputs": [
    {
     "name": "stdout",
     "output_type": "stream",
     "text": [
      "<class 'pandas.core.frame.DataFrame'>\n",
      "Index: 245472 entries, 19992 to 243657\n",
      "Data columns (total 4 columns):\n",
      " #   Column              Non-Null Count   Dtype \n",
      "---  ------              --------------   ----- \n",
      " 0   Datum               245472 non-null  object\n",
      " 1   Stunde              245472 non-null  int64 \n",
      " 2   Fahrrad-Zählstelle  245472 non-null  int64 \n",
      " 3   Anzahl Fahrräder    245472 non-null  int64 \n",
      "dtypes: int64(3), object(1)\n",
      "memory usage: 9.4+ MB\n",
      "             Datum  Stunde  Fahrrad-Zählstelle  Anzahl Fahrräder\n",
      "19992   2015-01-01       0                   1                16\n",
      "91418   2015-01-01       0                   2                 8\n",
      "92107   2015-01-01       0                   3                 6\n",
      "127925  2015-01-01       0                   4                18\n",
      "19993   2015-01-01       1                   1                41\n",
      "...            ...     ...                 ...               ...\n",
      "237802  2021-12-31      22                   4                76\n",
      "78783   2021-12-31      23                   1                47\n",
      "79682   2021-12-31      23                   2                17\n",
      "232337  2021-12-31      23                   3                37\n",
      "243657  2021-12-31      23                   4                76\n",
      "\n",
      "[245472 rows x 4 columns]\n"
     ]
    }
   ],
   "source": [
    "# I want to drop the column Datetime because it is redundant\n",
    "df_freiburg = df_freiburg.drop(columns='Datetime')\n",
    "\n",
    "# I also want to sort my DataFrame, depending on the \"Datum\" column and also by the \"Stunde\" column\n",
    "df_freiburg = df_freiburg.sort_values(by=['Datum','Stunde'], ascending=[True, True])\n",
    "\n",
    "df_freiburg.info()\n",
    "print(df_freiburg)"
   ]
  },
  {
   "cell_type": "code",
   "execution_count": null,
   "metadata": {},
   "outputs": [],
   "source": []
  }
 ],
 "metadata": {
  "kernelspec": {
   "display_name": "base",
   "language": "python",
   "name": "python3"
  },
  "language_info": {
   "codemirror_mode": {
    "name": "ipython",
    "version": 3
   },
   "file_extension": ".py",
   "mimetype": "text/x-python",
   "name": "python",
   "nbconvert_exporter": "python",
   "pygments_lexer": "ipython3",
   "version": "3.11.5"
  }
 },
 "nbformat": 4,
 "nbformat_minor": 2
}
