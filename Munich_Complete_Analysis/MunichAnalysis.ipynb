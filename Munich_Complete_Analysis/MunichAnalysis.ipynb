{
 "cells": [
  {
   "cell_type": "markdown",
   "metadata": {},
   "source": [
    "# Analysis of Munich Datasets"
   ]
  },
  {
   "cell_type": "markdown",
   "metadata": {},
   "source": [
    "## Imports"
   ]
  },
  {
   "cell_type": "code",
   "execution_count": 48,
   "metadata": {},
   "outputs": [],
   "source": [
    "import pandas as pd\n",
    "import matplotlib.pyplot as plt\n",
    "import matplotlib.cm as cm\n",
    "from matplotlib.ticker import ScalarFormatter\n",
    "import numpy as np\n",
    "import seaborn as sns"
   ]
  },
  {
   "cell_type": "markdown",
   "metadata": {},
   "source": [
    "### Import CSV files into variables"
   ]
  },
  {
   "cell_type": "code",
   "execution_count": 49,
   "metadata": {},
   "outputs": [],
   "source": [
    "muc_2016 = \"./munich2016.csv\"\n",
    "muc_2017 = \"./munich2017.csv\"\n",
    "muc_2018 = \"./munich2018.csv\"\n",
    "muc_2019 = \"./munich2019.csv\"\n",
    "muc_2020 = \"./munich2020.csv\"\n",
    "muc_2021 = \"./munich2021.csv\"\n",
    "muc_2022 = \"./munich2022.csv\"\n",
    "muc_2023 = \"./munich2023.csv\""
   ]
  },
  {
   "cell_type": "markdown",
   "metadata": {},
   "source": [
    "### Create the Data Frames from the CSV files"
   ]
  },
  {
   "cell_type": "code",
   "execution_count": 50,
   "metadata": {},
   "outputs": [],
   "source": [
    "df_muc_2016 = pd.read_csv(muc_2016)\n",
    "df_muc_2017 = pd.read_csv(muc_2017)\n",
    "df_muc_2018 = pd.read_csv(muc_2018)\n",
    "df_muc_2019 = pd.read_csv(muc_2019)\n",
    "df_muc_2020 = pd.read_csv(muc_2020)\n",
    "df_muc_2021 = pd.read_csv(muc_2021)\n",
    "df_muc_2022 = pd.read_csv(muc_2022)\n",
    "df_muc_2023 = pd.read_csv(muc_2023)"
   ]
  },
  {
   "cell_type": "code",
   "execution_count": 51,
   "metadata": {},
   "outputs": [
    {
     "data": {
      "text/html": [
       "<div>\n",
       "<style scoped>\n",
       "    .dataframe tbody tr th:only-of-type {\n",
       "        vertical-align: middle;\n",
       "    }\n",
       "\n",
       "    .dataframe tbody tr th {\n",
       "        vertical-align: top;\n",
       "    }\n",
       "\n",
       "    .dataframe thead th {\n",
       "        text-align: right;\n",
       "    }\n",
       "</style>\n",
       "<table border=\"1\" class=\"dataframe\">\n",
       "  <thead>\n",
       "    <tr style=\"text-align: right;\">\n",
       "      <th></th>\n",
       "      <th>datum</th>\n",
       "      <th>uhrzeit_start</th>\n",
       "      <th>uhrzeit_ende</th>\n",
       "      <th>zaehlstelle</th>\n",
       "      <th>richtung_1</th>\n",
       "      <th>richtung_2</th>\n",
       "      <th>gesamt</th>\n",
       "      <th>min-temp</th>\n",
       "      <th>max-temp</th>\n",
       "      <th>niederschlag</th>\n",
       "      <th>bewoelkung</th>\n",
       "      <th>sonnenstunden</th>\n",
       "    </tr>\n",
       "  </thead>\n",
       "  <tbody>\n",
       "    <tr>\n",
       "      <th>0</th>\n",
       "      <td>2023.01.01</td>\n",
       "      <td>00:00:00</td>\n",
       "      <td>23.59</td>\n",
       "      <td>Arnulf</td>\n",
       "      <td>358.0</td>\n",
       "      <td>44.0</td>\n",
       "      <td>402.0</td>\n",
       "      <td>6.4</td>\n",
       "      <td>18.5</td>\n",
       "      <td>0.0</td>\n",
       "      <td>73</td>\n",
       "      <td>7.8</td>\n",
       "    </tr>\n",
       "    <tr>\n",
       "      <th>1</th>\n",
       "      <td>2023.01.02</td>\n",
       "      <td>00:00:00</td>\n",
       "      <td>23.59</td>\n",
       "      <td>Arnulf</td>\n",
       "      <td>781.0</td>\n",
       "      <td>64.0</td>\n",
       "      <td>845.0</td>\n",
       "      <td>3.5</td>\n",
       "      <td>14.9</td>\n",
       "      <td>0.4</td>\n",
       "      <td>81</td>\n",
       "      <td>4.2</td>\n",
       "    </tr>\n",
       "    <tr>\n",
       "      <th>2</th>\n",
       "      <td>2023.01.03</td>\n",
       "      <td>00:00:00</td>\n",
       "      <td>23.59</td>\n",
       "      <td>Arnulf</td>\n",
       "      <td>671.0</td>\n",
       "      <td>51.0</td>\n",
       "      <td>722.0</td>\n",
       "      <td>3.7</td>\n",
       "      <td>10.4</td>\n",
       "      <td>0.7</td>\n",
       "      <td>91</td>\n",
       "      <td>0.0</td>\n",
       "    </tr>\n",
       "    <tr>\n",
       "      <th>3</th>\n",
       "      <td>2023.01.04</td>\n",
       "      <td>00:00:00</td>\n",
       "      <td>23.59</td>\n",
       "      <td>Arnulf</td>\n",
       "      <td>744.0</td>\n",
       "      <td>43.0</td>\n",
       "      <td>787.0</td>\n",
       "      <td>2.1</td>\n",
       "      <td>11.2</td>\n",
       "      <td>0.1</td>\n",
       "      <td>75</td>\n",
       "      <td>3.0</td>\n",
       "    </tr>\n",
       "    <tr>\n",
       "      <th>4</th>\n",
       "      <td>2023.01.05</td>\n",
       "      <td>00:00:00</td>\n",
       "      <td>23.59</td>\n",
       "      <td>Arnulf</td>\n",
       "      <td>630.0</td>\n",
       "      <td>45.0</td>\n",
       "      <td>675.0</td>\n",
       "      <td>8.3</td>\n",
       "      <td>11.1</td>\n",
       "      <td>2.3</td>\n",
       "      <td>98</td>\n",
       "      <td>0.0</td>\n",
       "    </tr>\n",
       "  </tbody>\n",
       "</table>\n",
       "</div>"
      ],
      "text/plain": [
       "        datum uhrzeit_start  uhrzeit_ende zaehlstelle  richtung_1  richtung_2  \\\n",
       "0  2023.01.01      00:00:00         23.59      Arnulf       358.0        44.0   \n",
       "1  2023.01.02      00:00:00         23.59      Arnulf       781.0        64.0   \n",
       "2  2023.01.03      00:00:00         23.59      Arnulf       671.0        51.0   \n",
       "3  2023.01.04      00:00:00         23.59      Arnulf       744.0        43.0   \n",
       "4  2023.01.05      00:00:00         23.59      Arnulf       630.0        45.0   \n",
       "\n",
       "   gesamt  min-temp  max-temp  niederschlag  bewoelkung  sonnenstunden  \n",
       "0   402.0       6.4      18.5           0.0          73            7.8  \n",
       "1   845.0       3.5      14.9           0.4          81            4.2  \n",
       "2   722.0       3.7      10.4           0.7          91            0.0  \n",
       "3   787.0       2.1      11.2           0.1          75            3.0  \n",
       "4   675.0       8.3      11.1           2.3          98            0.0  "
      ]
     },
     "execution_count": 51,
     "metadata": {},
     "output_type": "execute_result"
    }
   ],
   "source": [
    "df_muc_2023.head()\n",
    "## Here we see that or 2023 the format of the \"datum\" column (yyyy.mm.dd) is different to the one of the other years \"yyyy-mm-dd\""
   ]
  },
  {
   "cell_type": "code",
   "execution_count": 52,
   "metadata": {},
   "outputs": [
    {
     "name": "stdout",
     "output_type": "stream",
     "text": [
      "<class 'pandas.core.frame.DataFrame'>\n",
      "RangeIndex: 2006 entries, 0 to 2005\n",
      "Data columns (total 12 columns):\n",
      " #   Column         Non-Null Count  Dtype  \n",
      "---  ------         --------------  -----  \n",
      " 0   datum          2006 non-null   object \n",
      " 1   uhrzeit_start  2006 non-null   object \n",
      " 2   uhrzeit_ende   2006 non-null   float64\n",
      " 3   zaehlstelle    2006 non-null   object \n",
      " 4   richtung_1     1996 non-null   float64\n",
      " 5   richtung_2     1996 non-null   float64\n",
      " 6   gesamt         1996 non-null   float64\n",
      " 7   min.temp       2006 non-null   float64\n",
      " 8   max.temp       2006 non-null   float64\n",
      " 9   niederschlag   2006 non-null   float64\n",
      " 10  bewoelkung     2006 non-null   int64  \n",
      " 11  sonnenstunden  2006 non-null   float64\n",
      "dtypes: float64(8), int64(1), object(3)\n",
      "memory usage: 188.2+ KB\n"
     ]
    }
   ],
   "source": [
    "## So we change the '.' for '-'\n",
    "df_muc_2023['datum'] = df_muc_2023['datum'].str.replace('.','-')\n",
    "## We also need to change the name of the min and max temp\n",
    "df_muc_2023.rename(columns={'min-temp':'min.temp', 'max-temp':'max.temp'}, inplace=True)\n",
    "df_muc_2023.info()"
   ]
  },
  {
   "cell_type": "code",
   "execution_count": 53,
   "metadata": {},
   "outputs": [
    {
     "name": "stdout",
     "output_type": "stream",
     "text": [
      "<class 'pandas.core.frame.DataFrame'>\n",
      "RangeIndex: 17317 entries, 0 to 17316\n",
      "Data columns (total 11 columns):\n",
      " #   Column         Non-Null Count  Dtype  \n",
      "---  ------         --------------  -----  \n",
      " 0   datum          17317 non-null  object \n",
      " 1   zaehlstelle    17317 non-null  object \n",
      " 2   richtung_1     16873 non-null  float64\n",
      " 3   richtung_2     16873 non-null  float64\n",
      " 4   gesamt         16873 non-null  float64\n",
      " 5   min.temp       17317 non-null  float64\n",
      " 6   max.temp       17317 non-null  float64\n",
      " 7   niederschlag   17317 non-null  float64\n",
      " 8   bewoelkung     17317 non-null  int64  \n",
      " 9   sonnenstunden  17317 non-null  float64\n",
      " 10  kommentar      434 non-null    object \n",
      "dtypes: float64(7), int64(1), object(3)\n",
      "memory usage: 1.5+ MB\n"
     ]
    }
   ],
   "source": [
    "df_munich = pd.concat([df_muc_2016,df_muc_2017,df_muc_2018,df_muc_2019,df_muc_2020,df_muc_2021,df_muc_2022,df_muc_2023], ignore_index=True)\n",
    "\n",
    "# Since all the values of the column Uhrzeit start and end are always the same, they are not really needed for the analysis, we then will drop these columns\n",
    "# List of columns to drop\n",
    "columns_to_drop = ['uhrzeit_start', 'uhrzeit_ende']\n",
    "\n",
    "# Drop the specified columns\n",
    "df_munich_v2 = df_munich.drop(columns=columns_to_drop)\n",
    "df_munich_v2.info()\n",
    "df_munich_v2.to_csv('munich_bikes.csv', index=False)"
   ]
  },
  {
   "cell_type": "markdown",
   "metadata": {},
   "source": [
    "# Time Series Analysis\n",
    "\n",
    "- Time series data is data collected on the same subject at different points in time.\n",
    "- Time-series analysis isn't about predicting the future; instead, it's about understanding the past.\n",
    "- Key methodologies used in time-series analysis include moving averages, exponential smoothing, and decomposition methods. \n",
    "- Methods such as Autoregressive Integrated Moving Average (ARIMA) models also fall under this category.\n",
    "- The “time” element in time-series data means that the data is ordered by time. In this type of data, each entry is preceded and followed by another and has a timestamp that determines the order of the data. \n",
    "\n",
    "## Time-series components\n",
    "\n",
    "To correctly analyze time-series data, we need to look to the four components of a time series:\n",
    "- Trend: this is a long-term movement of the time series, such as the decreasing average heart rate of workouts as a person gets fitter.\n",
    "- Seasonality: regular periodic occurrences within a time interval smaller than a year (e.g., higher step count in spring and autumn because it’s not too cold or too hot for long walks).\n",
    "- Cyclicity: repeated fluctuations around the trend that are longer in duration than irregularities but shorter than what would constitute a trend. In our walking example, this would be a one-week sightseeing holiday every four to five months.\n",
    "- Irregularity: short-term irregular fluctuations or noise, such as a gap in the sampling of the pedometer or an active team-building day during the workweek.\n",
    "\n",
    "### Time Series Forecasting\n",
    "- Time series forecasting is exactly what it sounds like; predicting unknown values. Time series forecasting involves the collection of historical data, preparing it for algorithms to consume, and then predicting the future values based on patterns learned from the historical data."
   ]
  },
  {
   "cell_type": "code",
   "execution_count": null,
   "metadata": {},
   "outputs": [],
   "source": []
  }
 ],
 "metadata": {
  "kernelspec": {
   "display_name": "base",
   "language": "python",
   "name": "python3"
  },
  "language_info": {
   "codemirror_mode": {
    "name": "ipython",
    "version": 3
   },
   "file_extension": ".py",
   "mimetype": "text/x-python",
   "name": "python",
   "nbconvert_exporter": "python",
   "pygments_lexer": "ipython3",
   "version": "3.11.5"
  }
 },
 "nbformat": 4,
 "nbformat_minor": 2
}
