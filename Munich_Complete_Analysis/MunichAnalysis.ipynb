{
 "cells": [
  {
   "cell_type": "markdown",
   "metadata": {},
   "source": [
    "# Analysis of Munich Datasets"
   ]
  },
  {
   "cell_type": "markdown",
   "metadata": {},
   "source": [
    "## Imports"
   ]
  },
  {
   "cell_type": "code",
   "execution_count": 60,
   "metadata": {},
   "outputs": [],
   "source": [
    "import pandas as pd\n",
    "import matplotlib.pyplot as plt\n",
    "import matplotlib.cm as cm\n",
    "from matplotlib.ticker import ScalarFormatter\n",
    "import numpy as np\n",
    "import seaborn as sns"
   ]
  },
  {
   "cell_type": "markdown",
   "metadata": {},
   "source": [
    "### Import CSV files into variables"
   ]
  },
  {
   "cell_type": "code",
   "execution_count": 61,
   "metadata": {},
   "outputs": [],
   "source": [
    "muc_2016 = \"./munich2016.csv\"\n",
    "muc_2017 = \"./munich2017.csv\"\n",
    "muc_2018 = \"./munich2018.csv\"\n",
    "muc_2019 = \"./munich2019.csv\"\n",
    "muc_2020 = \"./munich2020.csv\"\n",
    "muc_2021 = \"./munich2021.csv\"\n",
    "muc_2022 = \"./munich2022.csv\"\n",
    "muc_2023 = \"./munich2023.csv\""
   ]
  },
  {
   "cell_type": "markdown",
   "metadata": {},
   "source": [
    "### Create the Data Frames from the CSV files"
   ]
  },
  {
   "cell_type": "code",
   "execution_count": 62,
   "metadata": {},
   "outputs": [],
   "source": [
    "df_muc_2016 = pd.read_csv(muc_2016)\n",
    "df_muc_2017 = pd.read_csv(muc_2017)\n",
    "df_muc_2018 = pd.read_csv(muc_2018)\n",
    "df_muc_2019 = pd.read_csv(muc_2019)\n",
    "df_muc_2020 = pd.read_csv(muc_2020)\n",
    "df_muc_2021 = pd.read_csv(muc_2021)\n",
    "df_muc_2022 = pd.read_csv(muc_2022)\n",
    "df_muc_2023 = pd.read_csv(muc_2023)"
   ]
  },
  {
   "cell_type": "code",
   "execution_count": 63,
   "metadata": {},
   "outputs": [
    {
     "data": {
      "text/html": [
       "<div>\n",
       "<style scoped>\n",
       "    .dataframe tbody tr th:only-of-type {\n",
       "        vertical-align: middle;\n",
       "    }\n",
       "\n",
       "    .dataframe tbody tr th {\n",
       "        vertical-align: top;\n",
       "    }\n",
       "\n",
       "    .dataframe thead th {\n",
       "        text-align: right;\n",
       "    }\n",
       "</style>\n",
       "<table border=\"1\" class=\"dataframe\">\n",
       "  <thead>\n",
       "    <tr style=\"text-align: right;\">\n",
       "      <th></th>\n",
       "      <th>datum</th>\n",
       "      <th>uhrzeit_start</th>\n",
       "      <th>uhrzeit_ende</th>\n",
       "      <th>zaehlstelle</th>\n",
       "      <th>richtung_1</th>\n",
       "      <th>richtung_2</th>\n",
       "      <th>gesamt</th>\n",
       "      <th>min-temp</th>\n",
       "      <th>max-temp</th>\n",
       "      <th>niederschlag</th>\n",
       "      <th>bewoelkung</th>\n",
       "      <th>sonnenstunden</th>\n",
       "    </tr>\n",
       "  </thead>\n",
       "  <tbody>\n",
       "    <tr>\n",
       "      <th>0</th>\n",
       "      <td>2023.01.01</td>\n",
       "      <td>00:00:00</td>\n",
       "      <td>23.59</td>\n",
       "      <td>Arnulf</td>\n",
       "      <td>358.0</td>\n",
       "      <td>44.0</td>\n",
       "      <td>402.0</td>\n",
       "      <td>6.4</td>\n",
       "      <td>18.5</td>\n",
       "      <td>0.0</td>\n",
       "      <td>73</td>\n",
       "      <td>7.8</td>\n",
       "    </tr>\n",
       "    <tr>\n",
       "      <th>1</th>\n",
       "      <td>2023.01.02</td>\n",
       "      <td>00:00:00</td>\n",
       "      <td>23.59</td>\n",
       "      <td>Arnulf</td>\n",
       "      <td>781.0</td>\n",
       "      <td>64.0</td>\n",
       "      <td>845.0</td>\n",
       "      <td>3.5</td>\n",
       "      <td>14.9</td>\n",
       "      <td>0.4</td>\n",
       "      <td>81</td>\n",
       "      <td>4.2</td>\n",
       "    </tr>\n",
       "    <tr>\n",
       "      <th>2</th>\n",
       "      <td>2023.01.03</td>\n",
       "      <td>00:00:00</td>\n",
       "      <td>23.59</td>\n",
       "      <td>Arnulf</td>\n",
       "      <td>671.0</td>\n",
       "      <td>51.0</td>\n",
       "      <td>722.0</td>\n",
       "      <td>3.7</td>\n",
       "      <td>10.4</td>\n",
       "      <td>0.7</td>\n",
       "      <td>91</td>\n",
       "      <td>0.0</td>\n",
       "    </tr>\n",
       "    <tr>\n",
       "      <th>3</th>\n",
       "      <td>2023.01.04</td>\n",
       "      <td>00:00:00</td>\n",
       "      <td>23.59</td>\n",
       "      <td>Arnulf</td>\n",
       "      <td>744.0</td>\n",
       "      <td>43.0</td>\n",
       "      <td>787.0</td>\n",
       "      <td>2.1</td>\n",
       "      <td>11.2</td>\n",
       "      <td>0.1</td>\n",
       "      <td>75</td>\n",
       "      <td>3.0</td>\n",
       "    </tr>\n",
       "    <tr>\n",
       "      <th>4</th>\n",
       "      <td>2023.01.05</td>\n",
       "      <td>00:00:00</td>\n",
       "      <td>23.59</td>\n",
       "      <td>Arnulf</td>\n",
       "      <td>630.0</td>\n",
       "      <td>45.0</td>\n",
       "      <td>675.0</td>\n",
       "      <td>8.3</td>\n",
       "      <td>11.1</td>\n",
       "      <td>2.3</td>\n",
       "      <td>98</td>\n",
       "      <td>0.0</td>\n",
       "    </tr>\n",
       "  </tbody>\n",
       "</table>\n",
       "</div>"
      ],
      "text/plain": [
       "        datum uhrzeit_start  uhrzeit_ende zaehlstelle  richtung_1  richtung_2  \\\n",
       "0  2023.01.01      00:00:00         23.59      Arnulf       358.0        44.0   \n",
       "1  2023.01.02      00:00:00         23.59      Arnulf       781.0        64.0   \n",
       "2  2023.01.03      00:00:00         23.59      Arnulf       671.0        51.0   \n",
       "3  2023.01.04      00:00:00         23.59      Arnulf       744.0        43.0   \n",
       "4  2023.01.05      00:00:00         23.59      Arnulf       630.0        45.0   \n",
       "\n",
       "   gesamt  min-temp  max-temp  niederschlag  bewoelkung  sonnenstunden  \n",
       "0   402.0       6.4      18.5           0.0          73            7.8  \n",
       "1   845.0       3.5      14.9           0.4          81            4.2  \n",
       "2   722.0       3.7      10.4           0.7          91            0.0  \n",
       "3   787.0       2.1      11.2           0.1          75            3.0  \n",
       "4   675.0       8.3      11.1           2.3          98            0.0  "
      ]
     },
     "execution_count": 63,
     "metadata": {},
     "output_type": "execute_result"
    }
   ],
   "source": [
    "df_muc_2023.head()\n",
    "## Here we see that or 2023 the format of the \"datum\" column (yyyy.mm.dd) is different to the one of the other years \"yyyy-mm-dd\""
   ]
  },
  {
   "cell_type": "code",
   "execution_count": 64,
   "metadata": {},
   "outputs": [
    {
     "name": "stdout",
     "output_type": "stream",
     "text": [
      "<class 'pandas.core.frame.DataFrame'>\n",
      "RangeIndex: 2006 entries, 0 to 2005\n",
      "Data columns (total 12 columns):\n",
      " #   Column         Non-Null Count  Dtype  \n",
      "---  ------         --------------  -----  \n",
      " 0   datum          2006 non-null   object \n",
      " 1   uhrzeit_start  2006 non-null   object \n",
      " 2   uhrzeit_ende   2006 non-null   float64\n",
      " 3   zaehlstelle    2006 non-null   object \n",
      " 4   richtung_1     1996 non-null   float64\n",
      " 5   richtung_2     1996 non-null   float64\n",
      " 6   gesamt         1996 non-null   float64\n",
      " 7   min.temp       2006 non-null   float64\n",
      " 8   max.temp       2006 non-null   float64\n",
      " 9   niederschlag   2006 non-null   float64\n",
      " 10  bewoelkung     2006 non-null   int64  \n",
      " 11  sonnenstunden  2006 non-null   float64\n",
      "dtypes: float64(8), int64(1), object(3)\n",
      "memory usage: 188.2+ KB\n"
     ]
    }
   ],
   "source": [
    "## So we change the '.' for '-'\n",
    "df_muc_2023['datum'] = df_muc_2023['datum'].str.replace('.','-')\n",
    "## We also need to change the name of the min and max temp\n",
    "df_muc_2023.rename(columns={'min-temp':'min.temp', 'max-temp':'max.temp'}, inplace=True)\n",
    "df_muc_2023.info()"
   ]
  },
  {
   "cell_type": "code",
   "execution_count": 65,
   "metadata": {},
   "outputs": [
    {
     "name": "stdout",
     "output_type": "stream",
     "text": [
      "<class 'pandas.core.frame.DataFrame'>\n",
      "RangeIndex: 17317 entries, 0 to 17316\n",
      "Data columns (total 11 columns):\n",
      " #   Column         Non-Null Count  Dtype  \n",
      "---  ------         --------------  -----  \n",
      " 0   datum          17317 non-null  object \n",
      " 1   zaehlstelle    17317 non-null  object \n",
      " 2   richtung_1     16873 non-null  float64\n",
      " 3   richtung_2     16873 non-null  float64\n",
      " 4   gesamt         16873 non-null  float64\n",
      " 5   min.temp       17317 non-null  float64\n",
      " 6   max.temp       17317 non-null  float64\n",
      " 7   niederschlag   17317 non-null  float64\n",
      " 8   bewoelkung     17317 non-null  int64  \n",
      " 9   sonnenstunden  17317 non-null  float64\n",
      " 10  kommentar      434 non-null    object \n",
      "dtypes: float64(7), int64(1), object(3)\n",
      "memory usage: 1.5+ MB\n"
     ]
    }
   ],
   "source": [
    "df_munich = pd.concat([df_muc_2016,df_muc_2017,df_muc_2018,df_muc_2019,df_muc_2020,df_muc_2021,df_muc_2022,df_muc_2023], ignore_index=True)\n",
    "\n",
    "# Since all the values of the column Uhrzeit start and end are always the same, they are not really needed for the analysis, we then will drop these columns\n",
    "# List of columns to drop\n",
    "columns_to_drop = ['uhrzeit_start', 'uhrzeit_ende']\n",
    "\n",
    "# Drop the specified columns\n",
    "df_munich_v2 = df_munich.drop(columns=columns_to_drop)\n",
    "df_munich_v2.info()\n",
    "df_munich_v2.to_csv('munich_bikes.csv', index=False)"
   ]
  },
  {
   "cell_type": "markdown",
   "metadata": {},
   "source": [
    "# Time Series Analysis\n",
    "\n",
    "- Time series data is data collected on the same subject at different points in time.\n",
    "- Time-series analysis isn't about predicting the future; instead, it's about understanding the past.\n",
    "- Key methodologies used in time-series analysis include moving averages, exponential smoothing, and decomposition methods. \n",
    "- Methods such as Autoregressive Integrated Moving Average (ARIMA) models also fall under this category.\n",
    "- The “time” element in time-series data means that the data is ordered by time. In this type of data, each entry is preceded and followed by another and has a timestamp that determines the order of the data. \n",
    "\n",
    "## Time-series components\n",
    "\n",
    "To correctly analyze time-series data, we need to look to the four components of a time series:\n",
    "- Trend: this is a long-term movement of the time series, such as the decreasing average heart rate of workouts as a person gets fitter.\n",
    "- Seasonality: regular periodic occurrences within a time interval smaller than a year (e.g., higher step count in spring and autumn because it’s not too cold or too hot for long walks).\n",
    "- Cyclicity: repeated fluctuations around the trend that are longer in duration than irregularities but shorter than what would constitute a trend. In our walking example, this would be a one-week sightseeing holiday every four to five months.\n",
    "- Irregularity: short-term irregular fluctuations or noise, such as a gap in the sampling of the pedometer or an active team-building day during the workweek.\n",
    "\n",
    "Trend and seasonality are deterministic, whereas cyclicity and irregularities are not.\n",
    "\n",
    "### Time Series Forecasting\n",
    "- Time series forecasting is exactly what it sounds like; predicting unknown values. Time series forecasting involves the collection of historical data, preparing it for algorithms to consume, and then predicting the future values based on patterns learned from the historical data."
   ]
  },
  {
   "cell_type": "markdown",
   "metadata": {},
   "source": [
    "# Munich Data Set\n",
    "## Introduction"
   ]
  },
  {
   "cell_type": "code",
   "execution_count": 66,
   "metadata": {},
   "outputs": [
    {
     "data": {
      "text/plain": [
       "(        datum zaehlstelle  richtung_1  richtung_2  gesamt  min.temp  max.temp  \\\n",
       " 0  2016-01-01      Arnulf       118.0         9.0   127.0       1.1       5.2   \n",
       " 1  2016-01-02      Arnulf       244.0        16.0   260.0       0.3       1.3   \n",
       " 2  2016-01-03      Arnulf       130.0        17.0   147.0      -2.0       1.5   \n",
       " 3  2016-01-04      Arnulf       427.0        34.0   461.0      -3.2       6.4   \n",
       " 4  2016-01-05      Arnulf       521.0        39.0   560.0       1.5       6.5   \n",
       " \n",
       "    niederschlag  bewoelkung  sonnenstunden kommentar  \n",
       " 0           0.0          93            0.0       NaN  \n",
       " 1           8.0          99            0.0       NaN  \n",
       " 2           2.8          98            0.0       NaN  \n",
       " 3           1.3          89            1.9       NaN  \n",
       " 4           0.5          83            1.4       NaN  ,\n",
       "             datum zaehlstelle  richtung_1  richtung_2  gesamt  min.temp  \\\n",
       " 17312  2023-12-27     Erhardt       802.0       781.0  1583.0       1.9   \n",
       " 17313  2023-12-28     Erhardt       885.0       925.0  1810.0       2.6   \n",
       " 17314  2023-12-29     Erhardt       939.0       959.0  1898.0       7.5   \n",
       " 17315  2023-12-30     Erhardt       945.0       810.0  1755.0       3.7   \n",
       " 17316  2023-12-31     Erhardt       549.0       525.0  1074.0       0.3   \n",
       " \n",
       "        max.temp  niederschlag  bewoelkung  sonnenstunden kommentar  \n",
       " 17312      11.3           0.0          85            6.3       NaN  \n",
       " 17313      12.0           0.0          78            3.2       NaN  \n",
       " 17314      11.2           0.0          90            1.1       NaN  \n",
       " 17315      11.2           0.0          86            7.3       NaN  \n",
       " 17316      10.3           3.5          98            1.0       NaN  )"
      ]
     },
     "execution_count": 66,
     "metadata": {},
     "output_type": "execute_result"
    }
   ],
   "source": [
    "# For this part, I am using data sets downloaded from the Open Data site from the City of Munich (Germany)\n",
    "# I have downloaded data sets from each year since 2016 until 2023, calling them munichYYYY.csv\n",
    "# These datasets record the number of bicicles that had gone trough a each of the 6 locations in Munich per day, the weather that day, hours of sun, and the direction the bikers were traveling\n",
    "# the Dates are formated as year-month-day\n",
    "# Adding together all data sets into a unified one, the data set munich_bikes.csv spans from January 1st, 2016 until December 31st, 2023\n",
    "# The objective is to predict the number of bikes counted daily for the first month of 2024 (and live?)\n",
    "# This means that the past data (from the downloaded datasets) needs to be used to identify trends and patterns.\n",
    "\n",
    "## Visualize first and last 5 rows, to understand the range and structure of the data\n",
    "df_munich_v2.head(), df_munich_v2.tail()"
   ]
  },
  {
   "cell_type": "markdown",
   "metadata": {},
   "source": [
    "- Examine: is there any apparent trend in the data?\n",
    "- Multivariate time series dataset\n",
    "- Creation of model that enables forecasting the number of bikes"
   ]
  },
  {
   "cell_type": "code",
   "execution_count": 67,
   "metadata": {},
   "outputs": [],
   "source": [
    "## The date should be our index, but we have several locations. How do we deal with this?\n",
    "### ---> We could aggregate all the locations and create a total for the whole city, or\n",
    "### ---> We could divide the munich_bikes.csv dataset into different datasets, depending on the location\n",
    "#\n",
    "#\n",
    "#\n",
    "## Also, we are dealing with multivariate time series dataset\n",
    "## for now, we can try to analyze it as if ot would just depend on one variable"
   ]
  },
  {
   "cell_type": "markdown",
   "metadata": {},
   "source": [
    "## Munich - All locations summarized to one row per day"
   ]
  },
  {
   "cell_type": "code",
   "execution_count": 82,
   "metadata": {},
   "outputs": [
    {
     "name": "stdout",
     "output_type": "stream",
     "text": [
      "<class 'pandas.core.frame.DataFrame'>\n",
      "RangeIndex: 17317 entries, 0 to 17316\n",
      "Data columns (total 7 columns):\n",
      " #   Column         Non-Null Count  Dtype  \n",
      "---  ------         --------------  -----  \n",
      " 0   datum          17317 non-null  object \n",
      " 1   gesamt         16873 non-null  float64\n",
      " 2   min.temp       17317 non-null  float64\n",
      " 3   max.temp       17317 non-null  float64\n",
      " 4   niederschlag   17317 non-null  float64\n",
      " 5   bewoelkung     17317 non-null  int64  \n",
      " 6   sonnenstunden  17317 non-null  float64\n",
      "dtypes: float64(5), int64(1), object(1)\n",
      "memory usage: 947.2+ KB\n",
      "           datum  gesamt  min.temp  max.temp  niederschlag  bewoelkung  \\\n",
      "0     2016-01-01  1154.0       1.1       5.2           0.0          93   \n",
      "1     2016-01-02  2066.0       0.3       1.3           8.0          99   \n",
      "2     2016-01-03  1677.0      -2.0       1.5           2.8          98   \n",
      "3     2016-01-04  3605.0      -3.2       6.4           1.3          89   \n",
      "4     2016-01-05  4297.0       1.5       6.5           0.5          83   \n",
      "...          ...     ...       ...       ...           ...         ...   \n",
      "2917  2023-12-27  5052.0       1.9      11.3           0.0          85   \n",
      "2918  2023-12-28  5418.0       2.6      12.0           0.0          78   \n",
      "2919  2023-12-29  5514.0       7.5      11.2           0.0          90   \n",
      "2920  2023-12-30  5183.0       3.7      11.2           0.0          86   \n",
      "2921  2023-12-31  3294.0       0.3      10.3           3.5          98   \n",
      "\n",
      "      sonnenstunden  \n",
      "0               0.0  \n",
      "1               0.0  \n",
      "2               0.0  \n",
      "3               1.9  \n",
      "4               1.4  \n",
      "...             ...  \n",
      "2917            6.3  \n",
      "2918            3.2  \n",
      "2919            1.1  \n",
      "2920            7.3  \n",
      "2921            1.0  \n",
      "\n",
      "[2922 rows x 7 columns]\n"
     ]
    }
   ],
   "source": [
    "# Assign values of dataset to a new dataframe variable\n",
    "df_munich_all_locations = df_munich_v2\n",
    "\n",
    "# Drop columns that are not needed\n",
    "df_munich_all_locations = df_munich_all_locations.drop(['zaehlstelle', 'richtung_1', 'richtung_2', 'kommentar'], axis=1)\n",
    "df_munich_all_locations.info()\n",
    "\n",
    "## df_munich_all_locations = df_munich_all_locations.groupby('datum')['gesamt'].sum()\n",
    "\n",
    "# Group by 'datum' and aggregate the rest of the columns\n",
    "df_munich_all_locations = df_munich_all_locations.groupby('datum').agg({\n",
    "    'gesamt': 'sum',  # Sum of 'gesamt' column\n",
    "    'min.temp': 'first',  # Take the first value of 'min.temp'\n",
    "    'max.temp': 'first',  # Take the first value of 'max.temp'\n",
    "    'niederschlag': 'first',  # Take the first value of 'niederschlag'\n",
    "    'bewoelkung': 'first',  # Take the first value of 'bewoelkung'\n",
    "    'sonnenstunden': 'first'  # Take the first value of 'sonnenstunden'\n",
    "}).reset_index()  # Reset the index to make 'datum' a column again\n",
    "\n",
    "print(df_munich_all_locations)\n"
   ]
  },
  {
   "cell_type": "code",
   "execution_count": null,
   "metadata": {},
   "outputs": [],
   "source": []
  }
 ],
 "metadata": {
  "kernelspec": {
   "display_name": "base",
   "language": "python",
   "name": "python3"
  },
  "language_info": {
   "codemirror_mode": {
    "name": "ipython",
    "version": 3
   },
   "file_extension": ".py",
   "mimetype": "text/x-python",
   "name": "python",
   "nbconvert_exporter": "python",
   "pygments_lexer": "ipython3",
   "version": "3.11.5"
  }
 },
 "nbformat": 4,
 "nbformat_minor": 2
}
