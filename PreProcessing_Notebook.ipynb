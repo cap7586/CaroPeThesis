{
 "cells": [
  {
   "cell_type": "markdown",
   "metadata": {},
   "source": [
    "# Thesis Notebook Caro Pe"
   ]
  },
  {
   "cell_type": "markdown",
   "metadata": {},
   "source": [
    "## Imports"
   ]
  },
  {
   "cell_type": "code",
   "execution_count": 19,
   "metadata": {},
   "outputs": [],
   "source": [
    "import pandas as pd\n",
    "import matplotlib.pyplot as plt\n",
    "import numpy as np"
   ]
  },
  {
   "cell_type": "markdown",
   "metadata": {},
   "source": [
    "## CSV files input to the Notebook"
   ]
  },
  {
   "cell_type": "code",
   "execution_count": 13,
   "metadata": {},
   "outputs": [],
   "source": [
    "#Köln Bikes Sets\n",
    "koeln_2020 = \"./koeln_bikes_dataset/koeln_2020.csv\"\n",
    "koeln_2021 = \"./koeln_bikes_dataset/koeln_2021.csv\"\n",
    "koeln_2022 = \"./koeln_bikes_dataset/koeln_2022.csv\"\n",
    "\n",
    "#munich datasets per year\n",
    "muc_2022_dataset = \"./munich_bikes_dataset/munich2022.csv\"\n",
    "muc_2021_dataset = \"./munich_bikes_dataset/munich2021.csv\"\n",
    "muc_2020_dataset = \"./munich_bikes_dataset/munich2020.csv\"\n",
    "muc_2019_dataset = \"./munich_bikes_dataset/munich2019.csv\"\n",
    "muc_2023 = \"./munich2023.csv\"\n",
    "\n",
    "augsburg_dataset = \"./augsburg_bikes.csv\"\n",
    "freiburg_dataset=\"./Freiburg_bikes.csv\"\n",
    "stuttgart_dataset = \"./stuttgart_bikes.csv\"\n",
    "wuerzburg_dataset = \"./Wuerzburg_modified.csv\""
   ]
  },
  {
   "cell_type": "markdown",
   "metadata": {},
   "source": [
    "## Defining the data sets as data frames "
   ]
  },
  {
   "cell_type": "code",
   "execution_count": 14,
   "metadata": {},
   "outputs": [],
   "source": [
    "df_wuerzburg = pd.read_csv(wuerzburg_dataset)\n",
    "df_augsburg = pd.read_csv(augsburg_dataset)\n",
    "df_freiburg = pd.read_csv(freiburg_dataset)\n",
    "df_stuttgart = pd.read_csv(stuttgart_dataset)\n",
    "\n",
    "#Munich datasets\n",
    "df_muc_2022 = pd.read_csv(muc_2022_dataset)\n",
    "df_muc_2021 = pd.read_csv(muc_2021_dataset)\n",
    "df_muc_2020 = pd.read_csv(muc_2020_dataset)\n",
    "df_muc_2019 = pd.read_csv(muc_2019_dataset)\n",
    "df_muc_2023 = pd.read_csv(muc_2023)\n",
    "\n",
    "#Köln datasets\n",
    "df_koeln_2020 = pd.read_csv(koeln_2020)\n",
    "df_koeln_2021 = pd.read_csv(koeln_2021)\n",
    "df_koeln_2022 = pd.read_csv(koeln_2022)"
   ]
  },
  {
   "cell_type": "code",
   "execution_count": 15,
   "metadata": {},
   "outputs": [
    {
     "name": "stdout",
     "output_type": "stream",
     "text": [
      "<class 'pandas.core.frame.DataFrame'>\n",
      "RangeIndex: 2159 entries, 0 to 2158\n",
      "Data columns (total 13 columns):\n",
      " #   Column         Non-Null Count  Dtype  \n",
      "---  ------         --------------  -----  \n",
      " 0   datum          2159 non-null   object \n",
      " 1   zaehlstelle    2159 non-null   object \n",
      " 2   uhrzeit_start  2159 non-null   object \n",
      " 3   uhrzeit_ende   2159 non-null   object \n",
      " 4   richtung_1     2125 non-null   float64\n",
      " 5   richtung_2     2125 non-null   float64\n",
      " 6   gesamt         2125 non-null   float64\n",
      " 7   min.temp       2159 non-null   float64\n",
      " 8   max.temp       2159 non-null   float64\n",
      " 9   niederschlag   2159 non-null   float64\n",
      " 10  bewoelkung     2159 non-null   int64  \n",
      " 11  sonnenstunden  2159 non-null   float64\n",
      " 12  kommentar      34 non-null     object \n",
      "dtypes: float64(7), int64(1), object(5)\n",
      "memory usage: 219.4+ KB\n",
      "<class 'pandas.core.frame.DataFrame'>\n",
      "RangeIndex: 2196 entries, 0 to 2195\n",
      "Data columns (total 13 columns):\n",
      " #   Column         Non-Null Count  Dtype  \n",
      "---  ------         --------------  -----  \n",
      " 0   datum          2196 non-null   object \n",
      " 1   zaehlstelle    2196 non-null   object \n",
      " 2   uhrzeit_start  2196 non-null   object \n",
      " 3   uhrzeit_ende   2196 non-null   object \n",
      " 4   richtung_1     2180 non-null   float64\n",
      " 5   richtung_2     2180 non-null   float64\n",
      " 6   gesamt         2180 non-null   float64\n",
      " 7   min.temp       2196 non-null   float64\n",
      " 8   max.temp       2196 non-null   float64\n",
      " 9   niederschlag   2196 non-null   float64\n",
      " 10  bewoelkung     2196 non-null   int64  \n",
      " 11  sonnenstunden  2196 non-null   float64\n",
      " 12  kommentar      16 non-null     object \n",
      "dtypes: float64(7), int64(1), object(5)\n",
      "memory usage: 223.2+ KB\n",
      "<class 'pandas.core.frame.DataFrame'>\n",
      "RangeIndex: 2190 entries, 0 to 2189\n",
      "Data columns (total 13 columns):\n",
      " #   Column         Non-Null Count  Dtype  \n",
      "---  ------         --------------  -----  \n",
      " 0   datum          2190 non-null   object \n",
      " 1   zaehlstelle    2190 non-null   object \n",
      " 2   uhrzeit_start  2190 non-null   object \n",
      " 3   uhrzeit_ende   2190 non-null   object \n",
      " 4   richtung_1     1886 non-null   float64\n",
      " 5   richtung_2     1886 non-null   float64\n",
      " 6   gesamt         1886 non-null   float64\n",
      " 7   min.temp       2190 non-null   float64\n",
      " 8   max.temp       2190 non-null   float64\n",
      " 9   niederschlag   2190 non-null   float64\n",
      " 10  bewoelkung     2190 non-null   int64  \n",
      " 11  sonnenstunden  2190 non-null   float64\n",
      " 12  kommentar      304 non-null    object \n",
      "dtypes: float64(7), int64(1), object(5)\n",
      "memory usage: 222.6+ KB\n",
      "<class 'pandas.core.frame.DataFrame'>\n",
      "RangeIndex: 2190 entries, 0 to 2189\n",
      "Data columns (total 13 columns):\n",
      " #   Column         Non-Null Count  Dtype  \n",
      "---  ------         --------------  -----  \n",
      " 0   datum          2190 non-null   object \n",
      " 1   zaehlstelle    2190 non-null   object \n",
      " 2   uhrzeit_start  2190 non-null   object \n",
      " 3   uhrzeit_ende   2190 non-null   object \n",
      " 4   richtung_1     2112 non-null   float64\n",
      " 5   richtung_2     2112 non-null   float64\n",
      " 6   gesamt         2112 non-null   float64\n",
      " 7   min.temp       2190 non-null   float64\n",
      " 8   max.temp       2190 non-null   float64\n",
      " 9   niederschlag   2190 non-null   float64\n",
      " 10  bewoelkung     2190 non-null   int64  \n",
      " 11  sonnenstunden  2190 non-null   float64\n",
      " 12  kommentar      78 non-null     object \n",
      "dtypes: float64(7), int64(1), object(5)\n",
      "memory usage: 222.6+ KB\n",
      "<class 'pandas.core.frame.DataFrame'>\n",
      "RangeIndex: 2006 entries, 0 to 2005\n",
      "Data columns (total 12 columns):\n",
      " #   Column         Non-Null Count  Dtype  \n",
      "---  ------         --------------  -----  \n",
      " 0   datum          2006 non-null   object \n",
      " 1   uhrzeit_start  2006 non-null   object \n",
      " 2   uhrzeit_ende   2006 non-null   float64\n",
      " 3   zaehlstelle    2006 non-null   object \n",
      " 4   richtung_1     1996 non-null   float64\n",
      " 5   richtung_2     1996 non-null   float64\n",
      " 6   gesamt         1996 non-null   float64\n",
      " 7   min.temp       2006 non-null   float64\n",
      " 8   max.temp       2006 non-null   float64\n",
      " 9   niederschlag   2006 non-null   float64\n",
      " 10  bewoelkung     2006 non-null   int64  \n",
      " 11  sonnenstunden  2006 non-null   float64\n",
      "dtypes: float64(8), int64(1), object(3)\n",
      "memory usage: 188.2+ KB\n"
     ]
    }
   ],
   "source": [
    "df_muc_2019.info()\n",
    "df_muc_2020.info()\n",
    "df_muc_2021.info()\n",
    "df_muc_2022.info()\n",
    "df_muc_2023.info()"
   ]
  },
  {
   "cell_type": "code",
   "execution_count": 20,
   "metadata": {},
   "outputs": [
    {
     "name": "stdout",
     "output_type": "stream",
     "text": [
      "<class 'pandas.core.frame.DataFrame'>\n",
      "RangeIndex: 2006 entries, 0 to 2005\n",
      "Data columns (total 13 columns):\n",
      " #   Column         Non-Null Count  Dtype  \n",
      "---  ------         --------------  -----  \n",
      " 0   datum          2006 non-null   object \n",
      " 1   uhrzeit_start  2006 non-null   object \n",
      " 2   uhrzeit_ende   2006 non-null   float64\n",
      " 3   zaehlstelle    2006 non-null   object \n",
      " 4   richtung_1     1996 non-null   float64\n",
      " 5   richtung_2     1996 non-null   float64\n",
      " 6   gesamt         1996 non-null   float64\n",
      " 7   min.temp       2006 non-null   float64\n",
      " 8   max.temp       2006 non-null   float64\n",
      " 9   niederschlag   2006 non-null   float64\n",
      " 10  bewoelkung     2006 non-null   int64  \n",
      " 11  sonnenstunden  2006 non-null   float64\n",
      " 12  kommentar      0 non-null      object \n",
      "dtypes: float64(8), int64(1), object(4)\n",
      "memory usage: 203.9+ KB\n"
     ]
    }
   ],
   "source": [
    "# Create a new column 'kommentar' filled with blanks\n",
    "df_muc_2023['kommentar'] =  np.nan\n",
    "\n",
    "df_muc_2023['kommentar'] = df_muc_2023['kommentar'].astype('object')\n",
    "\n",
    "# Display the DataFrame to verify the new column\n",
    "df_muc_2023.info()"
   ]
  },
  {
   "cell_type": "code",
   "execution_count": 25,
   "metadata": {},
   "outputs": [],
   "source": [
    "# Save the DataFrame to a CSV file\n",
    "df_muc_2023.to_csv('munich2023.csv', index=False)"
   ]
  },
  {
   "cell_type": "code",
   "execution_count": null,
   "metadata": {},
   "outputs": [],
   "source": []
  }
 ],
 "metadata": {
  "kernelspec": {
   "display_name": "Python 3 (ipykernel)",
   "language": "python",
   "name": "python3"
  },
  "language_info": {
   "codemirror_mode": {
    "name": "ipython",
    "version": 3
   },
   "file_extension": ".py",
   "mimetype": "text/x-python",
   "name": "python",
   "nbconvert_exporter": "python",
   "pygments_lexer": "ipython3",
   "version": "3.11.5"
  }
 },
 "nbformat": 4,
 "nbformat_minor": 2
}
