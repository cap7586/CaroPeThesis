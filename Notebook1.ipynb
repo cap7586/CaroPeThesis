{
 "cells": [
  {
   "cell_type": "markdown",
   "metadata": {},
   "source": [
    "# Thesis Notebook Caro Pe"
   ]
  },
  {
   "cell_type": "code",
   "execution_count": 10,
   "metadata": {},
   "outputs": [],
   "source": [
    "import pandas as pd"
   ]
  },
  {
   "cell_type": "code",
   "execution_count": 27,
   "metadata": {},
   "outputs": [],
   "source": [
    "wuerzburg_dataset = \"./Wuerzburg_copy.csv\"\n",
    "augsburg_dataset = \"./augsburg_bikes.csv\"\n",
    "muc_2022_dataset = \"./munich_bikes_dataset/munich2022.csv\"\n",
    "muc_2021_dataset = \"./munich_bikes_dataset/munich2021.csv\"\n",
    "muc_2020_dataset = \"./munich_bikes_dataset/munich2020.csv\"\n",
    "muc_2019_dataset = \"./munich_bikes_dataset/munich2019.csv\"\n",
    "\n",
    "muc_2023_dec = \"./munich_bikes_dataset/muc2023/munich_dec2023.csv\"\n",
    "muc_2023_nov = \"./munich_bikes_dataset/muc2023/munich_nov2023.csv\"\n",
    "muc_2023_oct = \"./munich_bikes_dataset/muc2023/munich_oct2023.csv\"\n",
    "muc_2023_sep = \"./munich_bikes_dataset/muc2023/munich_sep2023.csv\"\n",
    "muc_2023_aug = \"./munich_bikes_dataset/muc2023/munich_aug2023.csv\"\n",
    "muc_2023_jul = \"./munich_bikes_dataset/muc2023/munich_jul2023.csv\"\n",
    "muc_2023_jun = \"./munich_bikes_dataset/muc2023/munich_jun2023.csv\"\n",
    "muc_2023_may = \"./munich_bikes_dataset/muc2023/munich_may2023.csv\"\n",
    "muc_2023_apr = \"./munich_bikes_dataset/muc2023/munich_apr2023.csv\"\n",
    "muc_2023_mar = \"./munich_bikes_dataset/muc2023/munich_mar2023.csv\"\n",
    "muc_2023_feb = \"./munich_bikes_dataset/muc2023/munich_feb2023.csv\"\n",
    "muc_2023_jan = \"./munich_bikes_dataset/muc2023/munich_jan2023.csv\"\n"
   ]
  },
  {
   "cell_type": "code",
   "execution_count": 17,
   "metadata": {},
   "outputs": [],
   "source": [
    "df_wuerzburg = pd.read_csv(wuerzburg_dataset)\n",
    "df_augsburg = pd.read_csv(augsburg_dataset)\n",
    "df_muc_2022 = pd.read_csv(muc_2022_dataset)\n",
    "df_muc_2021 = pd.read_csv(muc_2021_dataset)\n",
    "df_muc_2020 = pd.read_csv(muc_2020_dataset)\n",
    "df_muc_2019 = pd.read_csv(muc_2019_dataset)"
   ]
  },
  {
   "cell_type": "code",
   "execution_count": 22,
   "metadata": {},
   "outputs": [
    {
     "name": "stdout",
     "output_type": "stream",
     "text": [
      "<class 'pandas.core.frame.DataFrame'>\n",
      "RangeIndex: 2190 entries, 0 to 2189\n",
      "Data columns (total 13 columns):\n",
      " #   Column         Non-Null Count  Dtype  \n",
      "---  ------         --------------  -----  \n",
      " 0   datum          2190 non-null   object \n",
      " 1   zaehlstelle    2190 non-null   object \n",
      " 2   uhrzeit_start  2190 non-null   object \n",
      " 3   uhrzeit_ende   2190 non-null   object \n",
      " 4   richtung_1     2112 non-null   float64\n",
      " 5   richtung_2     2112 non-null   float64\n",
      " 6   gesamt         2112 non-null   float64\n",
      " 7   min.temp       2190 non-null   float64\n",
      " 8   max.temp       2190 non-null   float64\n",
      " 9   niederschlag   2190 non-null   float64\n",
      " 10  bewoelkung     2190 non-null   int64  \n",
      " 11  sonnenstunden  2190 non-null   float64\n",
      " 12  kommentar      78 non-null     object \n",
      "dtypes: float64(7), int64(1), object(5)\n",
      "memory usage: 222.6+ KB\n",
      "        datum zaehlstelle uhrzeit_start uhrzeit_ende  richtung_1  richtung_2  \\\n",
      "0  2022-01-01      Arnulf         00:00        23:59       444.0         0.0   \n",
      "1  2022-01-02      Arnulf         00:00        23:59       476.0         0.0   \n",
      "2  2022-01-03      Arnulf         00:00        23:59       752.0         0.0   \n",
      "3  2022-01-04      Arnulf         00:00        23:59       603.0         0.0   \n",
      "4  2022-01-05      Arnulf         00:00        23:59       578.0         0.0   \n",
      "\n",
      "   gesamt  min.temp  max.temp  niederschlag  bewoelkung  sonnenstunden  \\\n",
      "0   444.0       3.2      13.4           0.0          68            7.6   \n",
      "1   476.0       1.9      15.8           0.0          80            4.7   \n",
      "2   752.0       8.7      11.5           0.7          99            0.0   \n",
      "3   603.0       3.7      16.5          10.3          98            1.0   \n",
      "4   578.0       0.3       3.9           1.2          95            0.4   \n",
      "\n",
      "  kommentar  \n",
      "0       NaN  \n",
      "1       NaN  \n",
      "2       NaN  \n",
      "3       NaN  \n",
      "4       NaN  \n"
     ]
    }
   ],
   "source": [
    "df_muc_2022.info()\n",
    "print(df_muc_2022.head())"
   ]
  },
  {
   "cell_type": "code",
   "execution_count": 23,
   "metadata": {},
   "outputs": [
    {
     "name": "stdout",
     "output_type": "stream",
     "text": [
      "<class 'pandas.core.frame.DataFrame'>\n",
      "RangeIndex: 2190 entries, 0 to 2189\n",
      "Data columns (total 13 columns):\n",
      " #   Column         Non-Null Count  Dtype  \n",
      "---  ------         --------------  -----  \n",
      " 0   datum          2190 non-null   object \n",
      " 1   zaehlstelle    2190 non-null   object \n",
      " 2   uhrzeit_start  2190 non-null   object \n",
      " 3   uhrzeit_ende   2190 non-null   object \n",
      " 4   richtung_1     1886 non-null   float64\n",
      " 5   richtung_2     1886 non-null   float64\n",
      " 6   gesamt         1886 non-null   float64\n",
      " 7   min.temp       2190 non-null   float64\n",
      " 8   max.temp       2190 non-null   float64\n",
      " 9   niederschlag   2190 non-null   float64\n",
      " 10  bewoelkung     2190 non-null   int64  \n",
      " 11  sonnenstunden  2190 non-null   float64\n",
      " 12  kommentar      304 non-null    object \n",
      "dtypes: float64(7), int64(1), object(5)\n",
      "memory usage: 222.6+ KB\n",
      "        datum zaehlstelle uhrzeit_start uhrzeit_ende  richtung_1  richtung_2  \\\n",
      "0  2021-01-01      Arnulf         00:00        23:59         NaN         NaN   \n",
      "1  2021-01-02      Arnulf         00:00        23:59         NaN         NaN   \n",
      "2  2021-01-03      Arnulf         00:00        23:59         NaN         NaN   \n",
      "3  2021-01-04      Arnulf         00:00        23:59         NaN         NaN   \n",
      "4  2021-01-05      Arnulf         00:00        23:59         NaN         NaN   \n",
      "\n",
      "   gesamt  min.temp  max.temp  niederschlag  bewoelkung  sonnenstunden  \\\n",
      "0     NaN      -2.9       3.7           0.0          95            3.0   \n",
      "1     NaN      -2.9       0.6           0.0         100            0.0   \n",
      "2     NaN      -2.2       0.5           0.0          99            0.0   \n",
      "3     NaN      -1.8       0.0           0.0         100            0.0   \n",
      "4     NaN      -2.1      -0.6           2.3         100            0.0   \n",
      "\n",
      "   kommentar  \n",
      "0  Baustelle  \n",
      "1  Baustelle  \n",
      "2  Baustelle  \n",
      "3  Baustelle  \n",
      "4  Baustelle  \n"
     ]
    }
   ],
   "source": [
    "df_muc_2021.info()\n",
    "print(df_muc_2021.head())"
   ]
  },
  {
   "cell_type": "code",
   "execution_count": 24,
   "metadata": {},
   "outputs": [
    {
     "name": "stdout",
     "output_type": "stream",
     "text": [
      "<class 'pandas.core.frame.DataFrame'>\n",
      "RangeIndex: 2196 entries, 0 to 2195\n",
      "Data columns (total 13 columns):\n",
      " #   Column         Non-Null Count  Dtype  \n",
      "---  ------         --------------  -----  \n",
      " 0   datum          2196 non-null   object \n",
      " 1   zaehlstelle    2196 non-null   object \n",
      " 2   uhrzeit_start  2196 non-null   object \n",
      " 3   uhrzeit_ende   2196 non-null   object \n",
      " 4   richtung_1     2180 non-null   float64\n",
      " 5   richtung_2     2180 non-null   float64\n",
      " 6   gesamt         2180 non-null   float64\n",
      " 7   min.temp       2196 non-null   float64\n",
      " 8   max.temp       2196 non-null   float64\n",
      " 9   niederschlag   2196 non-null   float64\n",
      " 10  bewoelkung     2196 non-null   int64  \n",
      " 11  sonnenstunden  2196 non-null   float64\n",
      " 12  kommentar      16 non-null     object \n",
      "dtypes: float64(7), int64(1), object(5)\n",
      "memory usage: 223.2+ KB\n",
      "        datum zaehlstelle uhrzeit_start uhrzeit_ende  richtung_1  richtung_2  \\\n",
      "0  2020-01-01      Arnulf         00:00        23:59       201.0        27.0   \n",
      "1  2020-01-02      Arnulf         00:00        23:59       632.0        76.0   \n",
      "2  2020-01-03      Arnulf         00:00        23:59       626.0        44.0   \n",
      "3  2020-01-04      Arnulf         00:00        23:59       283.0        25.0   \n",
      "4  2020-01-05      Arnulf         00:00        23:59       277.0        38.0   \n",
      "\n",
      "   gesamt  min.temp  max.temp  niederschlag  bewoelkung  sonnenstunden  \\\n",
      "0   228.0      -2.6       4.9           0.0          21            7.6   \n",
      "1   708.0      -4.6       4.1           0.0          30            7.8   \n",
      "2   670.0      -4.2       8.4           1.9          85            4.2   \n",
      "3   308.0       2.8       7.0           0.8          96            0.0   \n",
      "4   315.0      -1.3       4.7           0.0          74            0.4   \n",
      "\n",
      "  kommentar  \n",
      "0       NaN  \n",
      "1       NaN  \n",
      "2       NaN  \n",
      "3       NaN  \n",
      "4       NaN  \n"
     ]
    }
   ],
   "source": [
    "df_muc_2020.info()\n",
    "print(df_muc_2020.head())"
   ]
  },
  {
   "cell_type": "code",
   "execution_count": 25,
   "metadata": {},
   "outputs": [
    {
     "name": "stdout",
     "output_type": "stream",
     "text": [
      "<class 'pandas.core.frame.DataFrame'>\n",
      "RangeIndex: 2159 entries, 0 to 2158\n",
      "Data columns (total 13 columns):\n",
      " #   Column         Non-Null Count  Dtype  \n",
      "---  ------         --------------  -----  \n",
      " 0   datum          2159 non-null   object \n",
      " 1   zaehlstelle    2159 non-null   object \n",
      " 2   uhrzeit_start  2159 non-null   object \n",
      " 3   uhrzeit_ende   2159 non-null   object \n",
      " 4   richtung_1     2125 non-null   float64\n",
      " 5   richtung_2     2125 non-null   float64\n",
      " 6   gesamt         2125 non-null   float64\n",
      " 7   min.temp       2159 non-null   float64\n",
      " 8   max.temp       2159 non-null   float64\n",
      " 9   niederschlag   2159 non-null   float64\n",
      " 10  bewoelkung     2159 non-null   int64  \n",
      " 11  sonnenstunden  2159 non-null   float64\n",
      " 12  kommentar      34 non-null     object \n",
      "dtypes: float64(7), int64(1), object(5)\n",
      "memory usage: 219.4+ KB\n",
      "        datum zaehlstelle uhrzeit_start uhrzeit_ende  richtung_1  richtung_2  \\\n",
      "0  2019-01-01      Arnulf         00:00        23:59       138.0        14.0   \n",
      "1  2019-01-02      Arnulf         00:00        23:59       361.0        30.0   \n",
      "2  2019-01-03      Arnulf         00:00        23:59       345.0        32.0   \n",
      "3  2019-01-04      Arnulf         00:00        23:59       255.0        27.0   \n",
      "4  2019-01-05      Arnulf         00:00        23:59        41.0        12.0   \n",
      "\n",
      "   gesamt  min.temp  max.temp  niederschlag  bewoelkung  sonnenstunden  \\\n",
      "0   152.0       2.7       5.2           1.6          99            0.0   \n",
      "1   391.0      -2.1       3.2           0.6          88            0.7   \n",
      "2   377.0      -3.1      -0.6           0.0          93            2.9   \n",
      "3   282.0      -1.7      -0.3           5.0          96            0.0   \n",
      "4    53.0      -0.9       1.0          22.1          95            0.0   \n",
      "\n",
      "  kommentar  \n",
      "0       NaN  \n",
      "1       NaN  \n",
      "2       NaN  \n",
      "3       NaN  \n",
      "4       NaN  \n"
     ]
    }
   ],
   "source": [
    "df_muc_2019.info()\n",
    "print(df_muc_2019.head())"
   ]
  },
  {
   "cell_type": "code",
   "execution_count": null,
   "metadata": {},
   "outputs": [],
   "source": []
  }
 ],
 "metadata": {
  "kernelspec": {
   "display_name": "Python 3 (ipykernel)",
   "language": "python",
   "name": "python3"
  },
  "language_info": {
   "codemirror_mode": {
    "name": "ipython",
    "version": 3
   },
   "file_extension": ".py",
   "mimetype": "text/x-python",
   "name": "python",
   "nbconvert_exporter": "python",
   "pygments_lexer": "ipython3",
   "version": "3.11.5"
  }
 },
 "nbformat": 4,
 "nbformat_minor": 2
}
