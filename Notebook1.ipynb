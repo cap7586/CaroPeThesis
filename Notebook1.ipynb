{
 "cells": [
  {
   "cell_type": "markdown",
   "metadata": {},
   "source": [
    "# Thesis Notebook Caro Pe"
   ]
  },
  {
   "cell_type": "code",
   "execution_count": 1,
   "metadata": {},
   "outputs": [],
   "source": [
    "import pandas as pd"
   ]
  },
  {
   "cell_type": "code",
   "execution_count": 4,
   "metadata": {},
   "outputs": [],
   "source": [
    "file_path = \"./fahrrad-zaehlung-daten.csv\""
   ]
  },
  {
   "cell_type": "code",
   "execution_count": 7,
   "metadata": {},
   "outputs": [],
   "source": [
    "df = pd.read_csv(file_path)"
   ]
  },
  {
   "cell_type": "code",
   "execution_count": 9,
   "metadata": {},
   "outputs": [
    {
     "name": "stdout",
     "output_type": "stream",
     "text": [
      "                                                                       Id;Date;Counts;Status;Name;Coordinates;User Type;TimeZone;Interval;Sens;Installation Date;Counter;Photos;photourl;photo\n",
      "300020349;2021-03-03T23:00:00+01:00;;;Greinberg...  Versbach;49.800637   9.961311;bicycle;\"(UTC+01:00) Europe/Berlin;D...                                                                     \n",
      "300020349;2021-03-04T00:00:00+01:00;;;Greinberg...  Versbach;49.800637   9.961311;bicycle;\"(UTC+01:00) Europe/Berlin;D...                                                                     \n",
      "300020349;2021-03-04T01:00:00+01:00;;;Greinberg...  Versbach;49.800637   9.961311;bicycle;\"(UTC+01:00) Europe/Berlin;D...                                                                     \n",
      "300020349;2021-03-04T02:00:00+01:00;;;Greinberg...  Versbach;49.800637   9.961311;bicycle;\"(UTC+01:00) Europe/Berlin;D...                                                                     \n",
      "300020349;2021-03-04T03:00:00+01:00;;;Greinberg...  Versbach;49.800637   9.961311;bicycle;\"(UTC+01:00) Europe/Berlin;D...                                                                     \n"
     ]
    }
   ],
   "source": [
    "print(df.head())"
   ]
  },
  {
   "cell_type": "code",
   "execution_count": null,
   "metadata": {},
   "outputs": [],
   "source": []
  }
 ],
 "metadata": {
  "kernelspec": {
   "display_name": "Python 3 (ipykernel)",
   "language": "python",
   "name": "python3"
  },
  "language_info": {
   "codemirror_mode": {
    "name": "ipython",
    "version": 3
   },
   "file_extension": ".py",
   "mimetype": "text/x-python",
   "name": "python",
   "nbconvert_exporter": "python",
   "pygments_lexer": "ipython3",
   "version": "3.11.5"
  }
 },
 "nbformat": 4,
 "nbformat_minor": 2
}
