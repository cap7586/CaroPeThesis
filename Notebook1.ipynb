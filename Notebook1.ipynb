{
 "cells": [
  {
   "cell_type": "markdown",
   "metadata": {},
   "source": [
    "# Thesis Notebook Caro Pe"
   ]
  },
  {
   "cell_type": "code",
   "execution_count": 1,
   "metadata": {},
   "outputs": [],
   "source": [
    "import pandas as pd"
   ]
  },
  {
   "cell_type": "code",
   "execution_count": 13,
   "metadata": {},
   "outputs": [],
   "source": [
    "wuerzburg_data_set = \"./Wuerzburg_copy.csv\""
   ]
  },
  {
   "cell_type": "code",
   "execution_count": 14,
   "metadata": {},
   "outputs": [],
   "source": [
    "df = pd.read_csv(wuerzburg_data_set)"
   ]
  },
  {
   "cell_type": "code",
   "execution_count": 15,
   "metadata": {},
   "outputs": [
    {
     "name": "stdout",
     "output_type": "stream",
     "text": [
      "          Id                       Date  Counts Status  \\\n",
      "0  300020349  2021-03-03T23:00:00+01:00     NaN    NaN   \n",
      "1  300020349  2021-03-04T00:00:00+01:00     NaN    NaN   \n",
      "2  300020349  2021-03-04T01:00:00+01:00     NaN    NaN   \n",
      "3  300020349  2021-03-04T02:00:00+01:00     NaN    NaN   \n",
      "4  300020349  2021-03-04T03:00:00+01:00     NaN    NaN   \n",
      "\n",
      "                                          Name          Coordinates User Type  \\\n",
      "0  Greinberg Richtung Lindleinsmühle; Versbach  49.800637; 9.961311   bicycle   \n",
      "1  Greinberg Richtung Lindleinsmühle; Versbach  49.800637; 9.961311   bicycle   \n",
      "2  Greinberg Richtung Lindleinsmühle; Versbach  49.800637; 9.961311   bicycle   \n",
      "3  Greinberg Richtung Lindleinsmühle; Versbach  49.800637; 9.961311   bicycle   \n",
      "4  Greinberg Richtung Lindleinsmühle; Versbach  49.800637; 9.961311   bicycle   \n",
      "\n",
      "                        TimeZone  Interval                      Sens  \\\n",
      "0  (UTC+01:00) Europe/Berlin,DST      15.0  No direction distinction   \n",
      "1  (UTC+01:00) Europe/Berlin,DST      15.0  No direction distinction   \n",
      "2  (UTC+01:00) Europe/Berlin,DST      15.0  No direction distinction   \n",
      "3  (UTC+01:00) Europe/Berlin,DST      15.0  No direction distinction   \n",
      "4  (UTC+01:00) Europe/Berlin,DST      15.0  No direction distinction   \n",
      "\n",
      "  Installation Date Counter Photos photourl photo  \n",
      "0        2021-09-28     NaN    NaN      NaN   NaN  \n",
      "1        2021-09-28     NaN    NaN      NaN   NaN  \n",
      "2        2021-09-28     NaN    NaN      NaN   NaN  \n",
      "3        2021-09-28     NaN    NaN      NaN   NaN  \n",
      "4        2021-09-28     NaN    NaN      NaN   NaN  \n"
     ]
    }
   ],
   "source": [
    "print(df.head())"
   ]
  },
  {
   "cell_type": "code",
   "execution_count": null,
   "metadata": {},
   "outputs": [],
   "source": []
  }
 ],
 "metadata": {
  "kernelspec": {
   "display_name": "Python 3 (ipykernel)",
   "language": "python",
   "name": "python3"
  },
  "language_info": {
   "codemirror_mode": {
    "name": "ipython",
    "version": 3
   },
   "file_extension": ".py",
   "mimetype": "text/x-python",
   "name": "python",
   "nbconvert_exporter": "python",
   "pygments_lexer": "ipython3",
   "version": "3.11.5"
  }
 },
 "nbformat": 4,
 "nbformat_minor": 2
}
