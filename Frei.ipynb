{
 "cells": [
  {
   "cell_type": "code",
   "execution_count": 6,
   "metadata": {},
   "outputs": [
    {
     "name": "stdout",
     "output_type": "stream",
     "text": [
      "<class 'pandas.core.frame.DataFrame'>\n",
      "RangeIndex: 245472 entries, 0 to 245471\n",
      "Data columns (total 4 columns):\n",
      " #   Column              Non-Null Count   Dtype \n",
      "---  ------              --------------   ----- \n",
      " 0   Datum               245472 non-null  object\n",
      " 1   Stunde              245472 non-null  int64 \n",
      " 2   Fahrrad-Zählstelle  245472 non-null  int64 \n",
      " 3   Anzahl Fahrräder    245472 non-null  int64 \n",
      "dtypes: int64(3), object(1)\n",
      "memory usage: 7.5+ MB\n",
      "        Date  Hour  Location  TotalBikeCount\n",
      "0 2015-01-01     0         1              16\n",
      "1 2015-01-01     0         2               8\n",
      "2 2015-01-01     0         3               6\n",
      "3 2015-01-01     0         4              18\n",
      "4 2015-01-01     1         1              41\n"
     ]
    }
   ],
   "source": [
    "import pandas as pd\n",
    "import statsmodels.api as sm\n",
    "from statsmodels.tsa.stattools import adfuller\n",
    "import matplotlib.pyplot as plt\n",
    "import matplotlib.cm as cm\n",
    "from matplotlib.ticker import ScalarFormatter, MultipleLocator\n",
    "import numpy as np\n",
    "import seaborn as sns\n",
    "\n",
    "#Freiburg Bikes Sets\n",
    "freiburg_dataset = \"./Freiburg_bikes.csv\"\n",
    "df_freiburg_all = pd.read_csv(freiburg_dataset)\n",
    "\n",
    "#df_freiburg.shape #(245472, 5)\n",
    "#df_freiburg_all.info()\n",
    "\n",
    "# I want to drop the column Datetime for now\n",
    "df_freiburg = df_freiburg_all.drop(columns='Datetime')\n",
    "\n",
    "# I also want to sort my DataFrame, depending on the \"Datum\" column and also by the \"Stunde\" column\n",
    "df_freiburg = df_freiburg.sort_values(by=['Datum','Stunde'], ascending=[True, True])\n",
    "\n",
    "# Reset the index of the DataFrame to a continuous sequence starting from 0 to the last value using the reset_index() method with the parameter drop=True.\n",
    "df_freiburg.reset_index(drop=True, inplace=True)\n",
    "\n",
    "df_freiburg.info()\n",
    "\n",
    "# Convert 'Datum' column to datetime\n",
    "df_freiburg['Datum'] = pd.to_datetime(df_freiburg['Datum'])\n",
    "\n",
    "# Rename the columns\n",
    "df_freiburg = df_freiburg.rename(columns={\n",
    "    'Datum': 'Date',\n",
    "    'Stunde': 'Hour',\n",
    "    'Fahrrad-Zählstelle': 'Location',\n",
    "    'Anzahl Fahrräder': 'TotalBikeCount'\n",
    "})\n",
    "\n",
    "# Display the DataFrame to verify the changes\n",
    "print(df_freiburg.head())\n"
   ]
  },
  {
   "cell_type": "code",
   "execution_count": null,
   "metadata": {},
   "outputs": [],
   "source": []
  }
 ],
 "metadata": {
  "kernelspec": {
   "display_name": "base",
   "language": "python",
   "name": "python3"
  },
  "language_info": {
   "codemirror_mode": {
    "name": "ipython",
    "version": 3
   },
   "file_extension": ".py",
   "mimetype": "text/x-python",
   "name": "python",
   "nbconvert_exporter": "python",
   "pygments_lexer": "ipython3",
   "version": "3.11.5"
  }
 },
 "nbformat": 4,
 "nbformat_minor": 2
}
