{
 "cells": [
  {
   "cell_type": "markdown",
   "metadata": {},
   "source": [
    "# Thesis Notebook Caro Pe"
   ]
  },
  {
   "cell_type": "markdown",
   "metadata": {},
   "source": [
    "## Imports"
   ]
  },
  {
   "cell_type": "code",
   "execution_count": 57,
   "metadata": {},
   "outputs": [],
   "source": [
    "import pandas as pd\n",
    "import matplotlib.pyplot as plt"
   ]
  },
  {
   "cell_type": "markdown",
   "metadata": {},
   "source": [
    "## CSV files input to the Notebook"
   ]
  },
  {
   "cell_type": "code",
   "execution_count": 58,
   "metadata": {},
   "outputs": [],
   "source": [
    "wuerzburg_dataset = \"./Wuerzburg_modified.csv\"\n",
    "augsburg_dataset = \"./augsburg_bikes.csv\"\n",
    "\n",
    "#munich datasets per year\n",
    "muc_2022_dataset = \"./munich_bikes_dataset/munich2022.csv\"\n",
    "muc_2021_dataset = \"./munich_bikes_dataset/munich2021.csv\"\n",
    "muc_2020_dataset = \"./munich_bikes_dataset/munich2020.csv\"\n",
    "muc_2019_dataset = \"./munich_bikes_dataset/munich2019.csv\"\n",
    "\n",
    "#munich 2023 per month files\n",
    "muc_2023_dec = \"./munich_bikes_dataset/muc2023/munich_dec2023.csv\"\n",
    "muc_2023_nov = \"./munich_bikes_dataset/muc2023/munich_nov2023.csv\"\n",
    "muc_2023_oct = \"./munich_bikes_dataset/muc2023/munich_oct2023.csv\"\n",
    "muc_2023_sep = \"./munich_bikes_dataset/muc2023/munich_sep2023.csv\"\n",
    "muc_2023_aug = \"./munich_bikes_dataset/muc2023/munich_aug2023.csv\"\n",
    "muc_2023_jul = \"./munich_bikes_dataset/muc2023/munich_jul2023.csv\"\n",
    "muc_2023_jun = \"./munich_bikes_dataset/muc2023/munich_jun2023.csv\"\n",
    "muc_2023_may = \"./munich_bikes_dataset/muc2023/munich_may2023.csv\"\n",
    "muc_2023_apr = \"./munich_bikes_dataset/muc2023/munich_apr2023.csv\"\n",
    "muc_2023_mar = \"./munich_bikes_dataset/muc2023/munich_mar2023.csv\"\n",
    "muc_2023_feb = \"./munich_bikes_dataset/muc2023/munich_feb2023.csv\"\n",
    "muc_2023_jan = \"./munich_bikes_dataset/muc2023/munich_jan2023.csv\"\n",
    "\n",
    "#Köln Bikes Sets\n",
    "koeln_2020 = \"./koeln_bikes_dataset/koeln_2020.csv\"\n",
    "koeln_2021 = \"./koeln_bikes_dataset/koeln_2021.csv\"\n",
    "koeln_2022 = \"./koeln_bikes_dataset/koeln_2022.csv\""
   ]
  },
  {
   "cell_type": "markdown",
   "metadata": {},
   "source": [
    "## Defining the data sets as data frames "
   ]
  },
  {
   "cell_type": "code",
   "execution_count": 59,
   "metadata": {},
   "outputs": [],
   "source": [
    "df_wuerzburg = pd.read_csv(wuerzburg_dataset)\n",
    "df_augsburg = pd.read_csv(augsburg_dataset)\n",
    "\n",
    "#Munich datasets\n",
    "df_muc_2022 = pd.read_csv(muc_2022_dataset)\n",
    "df_muc_2021 = pd.read_csv(muc_2021_dataset)\n",
    "df_muc_2020 = pd.read_csv(muc_2020_dataset)\n",
    "df_muc_2019 = pd.read_csv(muc_2019_dataset)\n",
    "\n",
    "#munich 2023 data sets per month\n",
    "df_m2023_1 = pd.read_csv(muc_2023_jan)\n",
    "df_m2023_2 = pd.read_csv(muc_2023_feb)\n",
    "df_m2023_3 = pd.read_csv(muc_2023_mar)\n",
    "df_m2023_4 = pd.read_csv(muc_2023_apr)\n",
    "df_m2023_5 = pd.read_csv(muc_2023_may)\n",
    "df_m2023_6 = pd.read_csv(muc_2023_jun)\n",
    "df_m2023_7 = pd.read_csv(muc_2023_jul)\n",
    "df_m2023_8 = pd.read_csv(muc_2023_aug)\n",
    "df_m2023_9 = pd.read_csv(muc_2023_sep)\n",
    "df_m2023_10 = pd.read_csv(muc_2023_oct)\n",
    "df_m2023_11 = pd.read_csv(muc_2023_nov)\n",
    "df_m2023_12 = pd.read_csv(muc_2023_dec)\n",
    "\n",
    "#Köln datasets\n",
    "df_koeln_2020 = pd.read_csv(koeln_2020)\n",
    "df_koeln_2021 = pd.read_csv(koeln_2021)\n",
    "df_koeln_2022 = pd.read_csv(koeln_2022)\n"
   ]
  },
  {
   "cell_type": "code",
   "execution_count": 60,
   "metadata": {},
   "outputs": [],
   "source": [
    "# print(\"2023 Jan\")\n",
    "# df_m2023_1.info()\n",
    "\n",
    "# print(\"2023 Feb\")\n",
    "# df_m2023_2.info()\n",
    "\n",
    "# print(\"2023 Mar\")\n",
    "# df_m2023_3.info()\n",
    "\n",
    "# print(\"2023 Apr\")\n",
    "# df_m2023_4.info()\n",
    "\n",
    "# print(\"2023 May\")\n",
    "# df_m2023_5.info()\n",
    "\n",
    "# print(\"2023 Jun\")\n",
    "# df_m2023_6.info()\n",
    "\n",
    "# print(\"2023 Jul\")\n",
    "# df_m2023_7.info()\n",
    "\n",
    "# print(\"2023 Aug\")\n",
    "# df_m2023_8.info()\n",
    "\n",
    "# print(\"2023 Sep\")\n",
    "# df_m2023_9.info()\n",
    "\n",
    "# print(\"2023 Oct\")\n",
    "# df_m2023_10.info()\n",
    "\n",
    "# print(\"2023 Nov\")\n",
    "# df_m2023_11.info()\n",
    "\n",
    "# print(\"2023 Dec\")\n",
    "# df_m2023_12.info()"
   ]
  },
  {
   "cell_type": "code",
   "execution_count": 61,
   "metadata": {},
   "outputs": [
    {
     "name": "stdout",
     "output_type": "stream",
     "text": [
      "              df1            df2            df3            df4            df5  \\\n",
      "0           datum          datum          datum          datum          datum   \n",
      "1   uhrzeit_start  uhrzeit_start  uhrzeit_start  uhrzeit_start  uhrzeit_start   \n",
      "2    uhrzeit_ende   uhrzeit_ende   uhrzeit_ende   uhrzeit_ende   uhrzeit_ende   \n",
      "3     zaehlstelle    zaehlstelle    zaehlstelle    zaehlstelle    zaehlstelle   \n",
      "4      richtung_1     richtung_1     richtung_1     richtung_1     richtung_1   \n",
      "5      richtung_2     richtung_2     richtung_2     richtung_2     richtung_2   \n",
      "6          gesamt         gesamt         gesamt         gesamt         gesamt   \n",
      "7        min-temp       min-temp       min-temp       min-temp       min-temp   \n",
      "8        max-temp       max-temp       max-temp       max-temp       max-temp   \n",
      "9    niederschlag   niederschlag   niederschlag   niederschlag   niederschlag   \n",
      "10     bewoelkung     bewoelkung     bewoelkung     bewoelkung     bewoelkung   \n",
      "11  sonnenstunden  sonnenstunden  sonnenstunden  sonnenstunden  sonnenstunden   \n",
      "\n",
      "              df6            df7            df8            df9           df10  \\\n",
      "0           datum          datum          datum          datum          datum   \n",
      "1   uhrzeit_start  uhrzeit_start  uhrzeit_start  uhrzeit_start  uhrzeit_start   \n",
      "2    uhrzeit_ende   uhrzeit_ende   uhrzeit_ende   uhrzeit_ende   uhrzeit_ende   \n",
      "3     zaehlstelle    zaehlstelle    zaehlstelle    zaehlstelle    zaehlstelle   \n",
      "4      richtung_1     richtung_1     richtung_1     richtung_1     richtung_1   \n",
      "5      richtung_2     richtung_2     richtung_2     richtung_2     richtung_2   \n",
      "6          gesamt         gesamt         gesamt         gesamt         gesamt   \n",
      "7        min-temp       min-temp       min-temp       min-temp       min-temp   \n",
      "8        max-temp       max-temp       max-temp       max-temp       max-temp   \n",
      "9    niederschlag   niederschlag   niederschlag   niederschlag   niederschlag   \n",
      "10     bewoelkung     bewoelkung     bewoelkung     bewoelkung     bewoelkung   \n",
      "11  sonnenstunden  sonnenstunden  sonnenstunden  sonnenstunden  sonnenstunden   \n",
      "\n",
      "             df11  \n",
      "0           datum  \n",
      "1   uhrzeit_start  \n",
      "2    uhrzeit_ende  \n",
      "3     zaehlstelle  \n",
      "4      richtung_1  \n",
      "5      richtung_2  \n",
      "6          gesamt  \n",
      "7        min-temp  \n",
      "8        max-temp  \n",
      "9    niederschlag  \n",
      "10     bewoelkung  \n",
      "11  sonnenstunden  \n"
     ]
    }
   ],
   "source": [
    "# Comparing the header row (column names) - only not for December, because it has a different size!! \n",
    "header_comparison = pd.DataFrame({'df1': df_m2023_1.columns, 'df2': df_m2023_2.columns, 'df3': df_m2023_3.columns, 'df4': df_m2023_4.columns, 'df5': df_m2023_5.columns, 'df6': df_m2023_6.columns, 'df7': df_m2023_7.columns, 'df8': df_m2023_8.columns, 'df9': df_m2023_9.columns, 'df10': df_m2023_10.columns, 'df11': df_m2023_11.columns})\n",
    "\n",
    "print(header_comparison)"
   ]
  },
  {
   "cell_type": "code",
   "execution_count": 62,
   "metadata": {},
   "outputs": [],
   "source": [
    "#print(df_m2023_12.head())\n",
    "#print(df_m2023_1.head())"
   ]
  },
  {
   "cell_type": "code",
   "execution_count": 63,
   "metadata": {},
   "outputs": [
    {
     "name": "stdout",
     "output_type": "stream",
     "text": [
      "        datum uhrzeit_start  uhrzeit_ende zaehlstelle  richtung_1  richtung_2  \\\n",
      "0  2023.12.01         00:00         23.59      Arnulf         314          28   \n",
      "1  2023.12.02         00:00         23.59      Arnulf          49          42   \n",
      "2  2023.12.03         00:00         23.59      Arnulf          17          34   \n",
      "3  2023.12.04         00:00         23.59      Arnulf         104          32   \n",
      "4  2023.12.05         00:00         23.59      Arnulf         107          43   \n",
      "\n",
      "   gesamt  min.temp  max.temp  niederschlag  bewoelkung  sonnenstunden  \n",
      "0     342      -0.7       1.2          37.1          98            0.0  \n",
      "1      91      -5.5      -0.7           6.8          99            0.0  \n",
      "2      51      -7.9      -1.1           0.0           0            5.5  \n",
      "3     136     -10.8      -2.3           0.9          95            0.2  \n",
      "4     150      -3.0       6.2           0.4          96            1.0  \n"
     ]
    }
   ],
   "source": [
    "#We need to remove the first column of the DF for December 2023 in munich, in order to be able to use the concat() method in the right way\n",
    "df_m2023_12 = df_m2023_12.drop(df_m2023_12.columns[0], axis=1)\n",
    "\n",
    "print(df_m2023_12.head())"
   ]
  },
  {
   "cell_type": "code",
   "execution_count": 64,
   "metadata": {},
   "outputs": [
    {
     "name": "stdout",
     "output_type": "stream",
     "text": [
      "              df1            df2            df3            df4            df5  \\\n",
      "0           datum          datum          datum          datum          datum   \n",
      "1   uhrzeit_start  uhrzeit_start  uhrzeit_start  uhrzeit_start  uhrzeit_start   \n",
      "2    uhrzeit_ende   uhrzeit_ende   uhrzeit_ende   uhrzeit_ende   uhrzeit_ende   \n",
      "3     zaehlstelle    zaehlstelle    zaehlstelle    zaehlstelle    zaehlstelle   \n",
      "4      richtung_1     richtung_1     richtung_1     richtung_1     richtung_1   \n",
      "5      richtung_2     richtung_2     richtung_2     richtung_2     richtung_2   \n",
      "6          gesamt         gesamt         gesamt         gesamt         gesamt   \n",
      "7        min-temp       min-temp       min-temp       min-temp       min-temp   \n",
      "8        max-temp       max-temp       max-temp       max-temp       max-temp   \n",
      "9    niederschlag   niederschlag   niederschlag   niederschlag   niederschlag   \n",
      "10     bewoelkung     bewoelkung     bewoelkung     bewoelkung     bewoelkung   \n",
      "11  sonnenstunden  sonnenstunden  sonnenstunden  sonnenstunden  sonnenstunden   \n",
      "\n",
      "              df6            df7            df8            df9           df10  \\\n",
      "0           datum          datum          datum          datum          datum   \n",
      "1   uhrzeit_start  uhrzeit_start  uhrzeit_start  uhrzeit_start  uhrzeit_start   \n",
      "2    uhrzeit_ende   uhrzeit_ende   uhrzeit_ende   uhrzeit_ende   uhrzeit_ende   \n",
      "3     zaehlstelle    zaehlstelle    zaehlstelle    zaehlstelle    zaehlstelle   \n",
      "4      richtung_1     richtung_1     richtung_1     richtung_1     richtung_1   \n",
      "5      richtung_2     richtung_2     richtung_2     richtung_2     richtung_2   \n",
      "6          gesamt         gesamt         gesamt         gesamt         gesamt   \n",
      "7        min-temp       min-temp       min-temp       min-temp       min-temp   \n",
      "8        max-temp       max-temp       max-temp       max-temp       max-temp   \n",
      "9    niederschlag   niederschlag   niederschlag   niederschlag   niederschlag   \n",
      "10     bewoelkung     bewoelkung     bewoelkung     bewoelkung     bewoelkung   \n",
      "11  sonnenstunden  sonnenstunden  sonnenstunden  sonnenstunden  sonnenstunden   \n",
      "\n",
      "             df11           df12  \n",
      "0           datum          datum  \n",
      "1   uhrzeit_start  uhrzeit_start  \n",
      "2    uhrzeit_ende   uhrzeit_ende  \n",
      "3     zaehlstelle    zaehlstelle  \n",
      "4      richtung_1     richtung_1  \n",
      "5      richtung_2     richtung_2  \n",
      "6          gesamt         gesamt  \n",
      "7        min-temp       min.temp  \n",
      "8        max-temp       max.temp  \n",
      "9    niederschlag   niederschlag  \n",
      "10     bewoelkung     bewoelkung  \n",
      "11  sonnenstunden  sonnenstunden  \n"
     ]
    }
   ],
   "source": [
    "# Comparing the header row (column names) - only not for December, because it has a different size!! \n",
    "header_comparison = pd.DataFrame({'df1': df_m2023_1.columns, 'df2': df_m2023_2.columns, 'df3': df_m2023_3.columns, 'df4': df_m2023_4.columns, 'df5': df_m2023_5.columns, 'df6': df_m2023_6.columns, 'df7': df_m2023_7.columns, 'df8': df_m2023_8.columns, 'df9': df_m2023_9.columns, 'df10': df_m2023_10.columns, 'df11': df_m2023_11.columns, 'df12': df_m2023_12.columns})\n",
    "\n",
    "print(header_comparison)"
   ]
  },
  {
   "cell_type": "code",
   "execution_count": 65,
   "metadata": {},
   "outputs": [
    {
     "name": "stdout",
     "output_type": "stream",
     "text": [
      "           datum uhrzeit_start  uhrzeit_ende zaehlstelle  richtung_1  \\\n",
      "0     2023.01.01      00:00:00         23.59      Arnulf       358.0   \n",
      "1     2023.01.02      00:00:00         23.59      Arnulf       781.0   \n",
      "2     2023.01.03      00:00:00         23.59      Arnulf       671.0   \n",
      "3     2023.01.04      00:00:00         23.59      Arnulf       744.0   \n",
      "4     2023.01.05      00:00:00         23.59      Arnulf       630.0   \n",
      "...          ...           ...           ...         ...         ...   \n",
      "2001  2023.12.27         00:00         23.59     Erhardt       802.0   \n",
      "2002  2023.12.28         00:00         23.59     Erhardt       885.0   \n",
      "2003  2023.12.29         00:00         23.59     Erhardt       939.0   \n",
      "2004  2023.12.30         00:00         23.59     Erhardt       945.0   \n",
      "2005  2023.12.31         00:00         23.59     Erhardt       549.0   \n",
      "\n",
      "      richtung_2  gesamt  min-temp  max-temp  niederschlag  bewoelkung  \\\n",
      "0           44.0   402.0       6.4      18.5           0.0          73   \n",
      "1           64.0   845.0       3.5      14.9           0.4          81   \n",
      "2           51.0   722.0       3.7      10.4           0.7          91   \n",
      "3           43.0   787.0       2.1      11.2           0.1          75   \n",
      "4           45.0   675.0       8.3      11.1           2.3          98   \n",
      "...          ...     ...       ...       ...           ...         ...   \n",
      "2001       781.0  1583.0       NaN       NaN           0.0          85   \n",
      "2002       925.0  1810.0       NaN       NaN           0.0          78   \n",
      "2003       959.0  1898.0       NaN       NaN           0.0          90   \n",
      "2004       810.0  1755.0       NaN       NaN           0.0          86   \n",
      "2005       525.0  1074.0       NaN       NaN           3.5          98   \n",
      "\n",
      "      sonnenstunden  min.temp  max.temp  \n",
      "0               7.8       NaN       NaN  \n",
      "1               4.2       NaN       NaN  \n",
      "2               0.0       NaN       NaN  \n",
      "3               3.0       NaN       NaN  \n",
      "4               0.0       NaN       NaN  \n",
      "...             ...       ...       ...  \n",
      "2001            6.3       1.9      11.3  \n",
      "2002            3.2       2.6      12.0  \n",
      "2003            1.1       7.5      11.2  \n",
      "2004            7.3       3.7      11.2  \n",
      "2005            1.0       0.3      10.3  \n",
      "\n",
      "[2006 rows x 14 columns]\n"
     ]
    }
   ],
   "source": [
    "#now it looks like all the dataframes for each month in munich 2023 have the same number of columns in the same order\n",
    "#concat():\n",
    "\n",
    "# Concatenate the DataFrames\n",
    "df_munich2023 = pd.concat([df_m2023_1, df_m2023_2, df_m2023_3, df_m2023_4, df_m2023_5,\n",
    "                           df_m2023_6, df_m2023_7, df_m2023_8, df_m2023_9, df_m2023_10,\n",
    "                           df_m2023_11, df_m2023_12], ignore_index=True)\n",
    "\n",
    "# ignore_index=True will reset the index of the resulting DataFrame\n",
    "\n",
    "# Display the concatenated DataFrame\n",
    "print(df_munich2023)"
   ]
  },
  {
   "cell_type": "code",
   "execution_count": 66,
   "metadata": {},
   "outputs": [
    {
     "name": "stdout",
     "output_type": "stream",
     "text": [
      "<class 'pandas.core.frame.DataFrame'>\n",
      "RangeIndex: 2006 entries, 0 to 2005\n",
      "Data columns (total 14 columns):\n",
      " #   Column         Non-Null Count  Dtype  \n",
      "---  ------         --------------  -----  \n",
      " 0   datum          2006 non-null   object \n",
      " 1   uhrzeit_start  2006 non-null   object \n",
      " 2   uhrzeit_ende   2006 non-null   float64\n",
      " 3   zaehlstelle    2006 non-null   object \n",
      " 4   richtung_1     1996 non-null   float64\n",
      " 5   richtung_2     1996 non-null   float64\n",
      " 6   gesamt         1996 non-null   float64\n",
      " 7   min-temp       1851 non-null   float64\n",
      " 8   max-temp       1851 non-null   float64\n",
      " 9   niederschlag   2006 non-null   float64\n",
      " 10  bewoelkung     2006 non-null   int64  \n",
      " 11  sonnenstunden  2006 non-null   float64\n",
      " 12  min.temp       155 non-null    float64\n",
      " 13  max.temp       155 non-null    float64\n",
      "dtypes: float64(10), int64(1), object(3)\n",
      "memory usage: 219.5+ KB\n"
     ]
    }
   ],
   "source": [
    "df_munich2023.info()"
   ]
  },
  {
   "cell_type": "code",
   "execution_count": 67,
   "metadata": {},
   "outputs": [
    {
     "name": "stdout",
     "output_type": "stream",
     "text": [
      "        datum uhrzeit_start  uhrzeit_ende zaehlstelle  richtung_1  richtung_2  \\\n",
      "0  2023.12.01         00:00         23.59      Arnulf         314          28   \n",
      "1  2023.12.02         00:00         23.59      Arnulf          49          42   \n",
      "2  2023.12.03         00:00         23.59      Arnulf          17          34   \n",
      "3  2023.12.04         00:00         23.59      Arnulf         104          32   \n",
      "4  2023.12.05         00:00         23.59      Arnulf         107          43   \n",
      "\n",
      "   gesamt  min-temp  max-temp  niederschlag  bewoelkung  sonnenstunden  \n",
      "0     342      -0.7       1.2          37.1          98            0.0  \n",
      "1      91      -5.5      -0.7           6.8          99            0.0  \n",
      "2      51      -7.9      -1.1           0.0           0            5.5  \n",
      "3     136     -10.8      -2.3           0.9          95            0.2  \n",
      "4     150      -3.0       6.2           0.4          96            1.0  \n"
     ]
    }
   ],
   "source": [
    "## looks like there was an issue with the Dec columns and due to the different naming convention for the \"min.temp\" and \"max.temp\" the concat() \n",
    "## method is creating 2 new columns at the end of the new data frame\n",
    "## lets try to fix it\n",
    "\n",
    "# Rename columns\n",
    "df_m2023_12 = df_m2023_12.rename(columns={'min.temp': 'min-temp', 'max.temp': 'max-temp'})\n",
    "\n",
    "# Display the DataFrame\n",
    "print(df_m2023_12.head())"
   ]
  },
  {
   "cell_type": "code",
   "execution_count": 68,
   "metadata": {},
   "outputs": [
    {
     "name": "stdout",
     "output_type": "stream",
     "text": [
      "<class 'pandas.core.frame.DataFrame'>\n",
      "RangeIndex: 2006 entries, 0 to 2005\n",
      "Data columns (total 12 columns):\n",
      " #   Column         Non-Null Count  Dtype  \n",
      "---  ------         --------------  -----  \n",
      " 0   datum          2006 non-null   object \n",
      " 1   uhrzeit_start  2006 non-null   object \n",
      " 2   uhrzeit_ende   2006 non-null   float64\n",
      " 3   zaehlstelle    2006 non-null   object \n",
      " 4   richtung_1     1996 non-null   float64\n",
      " 5   richtung_2     1996 non-null   float64\n",
      " 6   gesamt         1996 non-null   float64\n",
      " 7   min-temp       2006 non-null   float64\n",
      " 8   max-temp       2006 non-null   float64\n",
      " 9   niederschlag   2006 non-null   float64\n",
      " 10  bewoelkung     2006 non-null   int64  \n",
      " 11  sonnenstunden  2006 non-null   float64\n",
      "dtypes: float64(8), int64(1), object(3)\n",
      "memory usage: 188.2+ KB\n"
     ]
    }
   ],
   "source": [
    "## now all the df for each month should have the same headers. lets try again:\n",
    "# Concatenate the DataFrames\n",
    "df_munich2023 = pd.concat([df_m2023_1, df_m2023_2, df_m2023_3, df_m2023_4, df_m2023_5,\n",
    "                           df_m2023_6, df_m2023_7, df_m2023_8, df_m2023_9, df_m2023_10,\n",
    "                           df_m2023_11, df_m2023_12], ignore_index=True)\n",
    "\n",
    "# ignore_index=True will reset the index of the resulting DataFrame\n",
    "\n",
    "# Display the concatenated DataFrame\n",
    "df_munich2023.info()"
   ]
  },
  {
   "cell_type": "code",
   "execution_count": 69,
   "metadata": {},
   "outputs": [],
   "source": [
    "# save the new DataFrame to a .csv file\n",
    "\n",
    "df_munich2023.to_csv('munich2023.csv', index=False)"
   ]
  },
  {
   "cell_type": "code",
   "execution_count": 70,
   "metadata": {},
   "outputs": [
    {
     "name": "stdout",
     "output_type": "stream",
     "text": [
      "          Id                       Date  Counts Status  \\\n",
      "0  300020349  2021-03-03T23:00:00+01:00     NaN    NaN   \n",
      "1  300020349  2021-03-04T00:00:00+01:00     NaN    NaN   \n",
      "2  300020349  2021-03-04T01:00:00+01:00     NaN    NaN   \n",
      "3  300020349  2021-03-04T02:00:00+01:00     NaN    NaN   \n",
      "4  300020349  2021-03-04T03:00:00+01:00     NaN    NaN   \n",
      "\n",
      "                                          Name          Coordinates User Type  \\\n",
      "0  Greinberg Richtung Lindleinsmühle; Versbach  49.800637; 9.961311   bicycle   \n",
      "1  Greinberg Richtung Lindleinsmühle; Versbach  49.800637; 9.961311   bicycle   \n",
      "2  Greinberg Richtung Lindleinsmühle; Versbach  49.800637; 9.961311   bicycle   \n",
      "3  Greinberg Richtung Lindleinsmühle; Versbach  49.800637; 9.961311   bicycle   \n",
      "4  Greinberg Richtung Lindleinsmühle; Versbach  49.800637; 9.961311   bicycle   \n",
      "\n",
      "                        TimeZone  Interval                      Sens  \\\n",
      "0  (UTC+01:00) Europe/Berlin,DST      15.0  No direction distinction   \n",
      "1  (UTC+01:00) Europe/Berlin,DST      15.0  No direction distinction   \n",
      "2  (UTC+01:00) Europe/Berlin,DST      15.0  No direction distinction   \n",
      "3  (UTC+01:00) Europe/Berlin,DST      15.0  No direction distinction   \n",
      "4  (UTC+01:00) Europe/Berlin,DST      15.0  No direction distinction   \n",
      "\n",
      "  Installation Date Counter Photos photourl photo  \n",
      "0        2021-09-28     NaN    NaN      NaN   NaN  \n",
      "1        2021-09-28     NaN    NaN      NaN   NaN  \n",
      "2        2021-09-28     NaN    NaN      NaN   NaN  \n",
      "3        2021-09-28     NaN    NaN      NaN   NaN  \n",
      "4        2021-09-28     NaN    NaN      NaN   NaN  \n",
      "<class 'pandas.core.frame.DataFrame'>\n",
      "RangeIndex: 231349 entries, 0 to 231348\n",
      "Data columns (total 15 columns):\n",
      " #   Column             Non-Null Count   Dtype  \n",
      "---  ------             --------------   -----  \n",
      " 0   Id                 231349 non-null  int64  \n",
      " 1   Date               231349 non-null  object \n",
      " 2   Counts             153916 non-null  float64\n",
      " 3   Status             153916 non-null  object \n",
      " 4   Name               217150 non-null  object \n",
      " 5   Coordinates        217150 non-null  object \n",
      " 6   User Type          217150 non-null  object \n",
      " 7   TimeZone           217150 non-null  object \n",
      " 8   Interval           217150 non-null  float64\n",
      " 9   Sens               217150 non-null  object \n",
      " 10  Installation Date  217150 non-null  object \n",
      " 11  Counter            108553 non-null  object \n",
      " 12  Photos             108553 non-null  object \n",
      " 13  photourl           108553 non-null  object \n",
      " 14  photo              108553 non-null  object \n",
      "dtypes: float64(2), int64(1), object(12)\n",
      "memory usage: 26.5+ MB\n"
     ]
    }
   ],
   "source": [
    "#df_wuerzburg = df_wuerzburg.drop(df_wuerzburg.columns[0], axis=1)\n",
    "\n",
    "print(df_wuerzburg.head())\n",
    "df_wuerzburg.info()"
   ]
  },
  {
   "cell_type": "code",
   "execution_count": 71,
   "metadata": {},
   "outputs": [
    {
     "name": "stdout",
     "output_type": "stream",
     "text": [
      "          Id                       Date  Counts Status  \\\n",
      "0  300020349  2021-03-03T23:00:00+01:00     NaN    NaN   \n",
      "1  300020349  2021-03-04T00:00:00+01:00     NaN    NaN   \n",
      "2  300020349  2021-03-04T01:00:00+01:00     NaN    NaN   \n",
      "3  300020349  2021-03-04T02:00:00+01:00     NaN    NaN   \n",
      "4  300020349  2021-03-04T03:00:00+01:00     NaN    NaN   \n",
      "\n",
      "                                          Name          Coordinates  Interval  \\\n",
      "0  Greinberg Richtung Lindleinsmühle; Versbach  49.800637; 9.961311      15.0   \n",
      "1  Greinberg Richtung Lindleinsmühle; Versbach  49.800637; 9.961311      15.0   \n",
      "2  Greinberg Richtung Lindleinsmühle; Versbach  49.800637; 9.961311      15.0   \n",
      "3  Greinberg Richtung Lindleinsmühle; Versbach  49.800637; 9.961311      15.0   \n",
      "4  Greinberg Richtung Lindleinsmühle; Versbach  49.800637; 9.961311      15.0   \n",
      "\n",
      "  Installation Date Counter  \n",
      "0        2021-09-28     NaN  \n",
      "1        2021-09-28     NaN  \n",
      "2        2021-09-28     NaN  \n",
      "3        2021-09-28     NaN  \n",
      "4        2021-09-28     NaN  \n"
     ]
    }
   ],
   "source": [
    "# For now, I think it makes sense removing the following columns\n",
    "columns_to_drop_wuerz = ['TimeZone', 'User Type', 'Sens','Photos', 'photourl', 'photo']\n",
    "\n",
    "df_wuerzburg = df_wuerzburg.drop(columns=columns_to_drop_wuerz)\n",
    "\n",
    "print(df_wuerzburg.head())"
   ]
  },
  {
   "cell_type": "code",
   "execution_count": 72,
   "metadata": {},
   "outputs": [
    {
     "name": "stdout",
     "output_type": "stream",
     "text": [
      "<class 'pandas.core.frame.DataFrame'>\n",
      "RangeIndex: 2695 entries, 0 to 2694\n",
      "Data columns (total 13 columns):\n",
      " #   Column                                             Non-Null Count  Dtype  \n",
      "---  ------                                             --------------  -----  \n",
      " 0   Time                                               2695 non-null   object \n",
      " 1   Dieselbrücke                                       1331 non-null   float64\n",
      " 2   Friedberger Straße östlich Afrabrücke              1559 non-null   float64\n",
      " 3   Friedrich-Ebert-Straße östlich Haltestelle Messe   1564 non-null   float64\n",
      " 4   Färberstraße/Gollwitzerstr.                        1571 non-null   float64\n",
      " 5   Gögginger Straße südlich Rosenaustraße             1564 non-null   float64\n",
      " 6   Haunstetter Straße Höhe protestantischer Friedhof  1556 non-null   float64\n",
      " 7   Konrad Adenauer Allee Fahrradstraße                2695 non-null   int64  \n",
      " 8   Postillionstraße südl. Roggenstraße                645 non-null    float64\n",
      " 9   Rosenaustraße westlich Gögginger Straße            1562 non-null   float64\n",
      " 10  Südlich A8-Unterführung, Ostseite                  670 non-null    float64\n",
      " 11  Ulrichsbrücke                                      2329 non-null   float64\n",
      " 12  Wagenhalsstraße                                    2252 non-null   float64\n",
      "dtypes: float64(11), int64(1), object(1)\n",
      "memory usage: 273.8+ KB\n"
     ]
    }
   ],
   "source": [
    "df_augsburg = df_augsburg.iloc[:, :-1] # here I had to drop the last column from the dataset because it had no values at all. It was a wrong input\n",
    "df_augsburg.info()\n",
    "## We can see that all streets have a Dtype of float64 but column 7 (Konrad Adenauer Alle) is the only one with int64 as data type"
   ]
  },
  {
   "cell_type": "code",
   "execution_count": 76,
   "metadata": {},
   "outputs": [],
   "source": [
    "# df_koeln_2020.info()\n",
    "# df_koeln_2021.info()\n",
    "# df_koeln_2022.info()"
   ]
  },
  {
   "cell_type": "code",
   "execution_count": null,
   "metadata": {},
   "outputs": [],
   "source": []
  }
 ],
 "metadata": {
  "kernelspec": {
   "display_name": "Python 3 (ipykernel)",
   "language": "python",
   "name": "python3"
  },
  "language_info": {
   "codemirror_mode": {
    "name": "ipython",
    "version": 3
   },
   "file_extension": ".py",
   "mimetype": "text/x-python",
   "name": "python",
   "nbconvert_exporter": "python",
   "pygments_lexer": "ipython3",
   "version": "3.11.5"
  }
 },
 "nbformat": 4,
 "nbformat_minor": 2
}
