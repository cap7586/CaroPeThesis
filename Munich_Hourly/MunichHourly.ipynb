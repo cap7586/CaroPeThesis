{
 "cells": [
  {
   "cell_type": "code",
   "execution_count": 1,
   "metadata": {},
   "outputs": [],
   "source": [
    "import pandas as pd\n",
    "import numpy as np"
   ]
  },
  {
   "cell_type": "code",
   "execution_count": 6,
   "metadata": {},
   "outputs": [
    {
     "name": "stdout",
     "output_type": "stream",
     "text": [
      "<class 'pandas.core.frame.DataFrame'>\n",
      "RangeIndex: 14880 entries, 0 to 14879\n",
      "Data columns (total 8 columns):\n",
      " #   Column         Non-Null Count  Dtype \n",
      "---  ------         --------------  ----- \n",
      " 0   id             14880 non-null  int64 \n",
      " 1   datum          14880 non-null  object\n",
      " 2   uhrzeit_start  14880 non-null  object\n",
      " 3   uhrzeit_ende   14880 non-null  object\n",
      " 4   zaehlstelle    14880 non-null  object\n",
      " 5   richtung_1     14880 non-null  int64 \n",
      " 6   richtung_2     14880 non-null  int64 \n",
      " 7   gesamt         14880 non-null  int64 \n",
      "dtypes: int64(4), object(4)\n",
      "memory usage: 930.1+ KB\n"
     ]
    }
   ],
   "source": [
    "aux = \"./aux.csv\"\n",
    "MunichData = \"./aux.csv\"\n",
    "\n",
    "df_aux = pd.read_csv(aux)\n",
    "df_munich = pd.read_csv(MunichData)\n",
    "df_aux\n",
    "\n",
    "df_aux"
   ]
  },
  {
   "cell_type": "code",
   "execution_count": null,
   "metadata": {},
   "outputs": [],
   "source": []
  }
 ],
 "metadata": {
  "kernelspec": {
   "display_name": "thesis_env",
   "language": "python",
   "name": "python3"
  },
  "language_info": {
   "codemirror_mode": {
    "name": "ipython",
    "version": 3
   },
   "file_extension": ".py",
   "mimetype": "text/x-python",
   "name": "python",
   "nbconvert_exporter": "python",
   "pygments_lexer": "ipython3",
   "version": "3.10.13"
  }
 },
 "nbformat": 4,
 "nbformat_minor": 2
}
